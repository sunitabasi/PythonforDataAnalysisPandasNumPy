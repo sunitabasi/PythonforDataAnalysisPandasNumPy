{
 "cells": [
  {
   "cell_type": "code",
   "execution_count": 22,
   "id": "48aa73cc",
   "metadata": {},
   "outputs": [
    {
     "data": {
      "text/plain": [
       "[20, 50, 60, 78, 60, 80, 100, 200]"
      ]
     },
     "execution_count": 22,
     "metadata": {},
     "output_type": "execute_result"
    }
   ],
   "source": [
    "# 1 dimensional array\n",
    "import numpy as np\n",
    "list_1 = [20,50,60,78,60,80,100,200]\n",
    "list_1"
   ]
  },
  {
   "cell_type": "markdown",
   "id": "a6e275a8",
   "metadata": {},
   "source": []
  },
  {
   "cell_type": "code",
   "execution_count": 23,
   "id": "63c55152",
   "metadata": {},
   "outputs": [
    {
     "data": {
      "text/plain": [
       "array([ 20,  50,  60,  78,  60,  80, 100, 200])"
      ]
     },
     "execution_count": 23,
     "metadata": {},
     "output_type": "execute_result"
    }
   ],
   "source": [
    "# let's create a numpy array from the list\"my_list\"\n",
    "my_numpy_list = np.array(list_1)\n",
    "my_numpy_list"
   ]
  },
  {
   "cell_type": "code",
   "execution_count": 24,
   "id": "2a701012",
   "metadata": {},
   "outputs": [
    {
     "data": {
      "text/plain": [
       "numpy.ndarray"
      ]
     },
     "execution_count": 24,
     "metadata": {},
     "output_type": "execute_result"
    }
   ],
   "source": [
    "# to know the type\n",
    "type(my_numpy_list)"
   ]
  },
  {
   "cell_type": "code",
   "execution_count": 25,
   "id": "46dceae9",
   "metadata": {},
   "outputs": [
    {
     "data": {
      "text/plain": [
       "array([[4, 5, 6],\n",
       "       [8, 9, 6]])"
      ]
     },
     "execution_count": 25,
     "metadata": {},
     "output_type": "execute_result"
    }
   ],
   "source": [
    "#multi dimensional array\n",
    "my_matrix = np.array([[4,5,6],[8,9,6]])\n",
    "my_matrix"
   ]
  },
  {
   "cell_type": "code",
   "execution_count": 26,
   "id": "e839f1c4",
   "metadata": {},
   "outputs": [
    {
     "data": {
      "text/plain": [
       "array([[3, 7, 9, 3],\n",
       "       [4, 3, 2, 2]])"
      ]
     },
     "execution_count": 26,
     "metadata": {},
     "output_type": "execute_result"
    }
   ],
   "source": [
    "# write a code that creates the following 2*4 numpy array\n",
    "#[[3 7 9 3]\n",
    "#[4 3 2 2]]\n",
    "a = np.array([[3,7,9,3],[4,3,2,2]])\n",
    "a"
   ]
  },
  {
   "cell_type": "code",
   "execution_count": 31,
   "id": "1b733c84",
   "metadata": {},
   "outputs": [
    {
     "data": {
      "text/plain": [
       "array([0.31080183, 0.61368176, 0.68505463, 0.93328454, 0.27835458,\n",
       "       0.99082   , 0.78504427, 0.71609294, 0.0874123 , 0.49384074,\n",
       "       0.84692001, 0.9221664 , 0.29465627, 0.13601903, 0.23152765,\n",
       "       0.44008683, 0.32475553, 0.35442125, 0.4824361 , 0.1427911 ,\n",
       "       0.88023385, 0.30877817, 0.699081  , 0.73694356, 0.35578428,\n",
       "       0.34657013, 0.76752841, 0.96620219, 0.61646152, 0.38486733])"
      ]
     },
     "execution_count": 31,
     "metadata": {},
     "output_type": "execute_result"
    }
   ],
   "source": [
    "# leverage numpy buint in methods and functions\n",
    "# rand() uniform distribution between 0 and 1\n",
    "x = np.random.rand(30)\n",
    "\n",
    "x"
   ]
  },
  {
   "cell_type": "code",
   "execution_count": 33,
   "id": "162dc10a",
   "metadata": {},
   "outputs": [
    {
     "data": {
      "text/plain": [
       "array([[0.56314063, 0.31468572, 0.5893674 , 0.70523451],\n",
       "       [0.55297358, 0.00391445, 0.79937423, 0.28551708]])"
      ]
     },
     "execution_count": 33,
     "metadata": {},
     "output_type": "execute_result"
    }
   ],
   "source": [
    "#creating a matrix of random number\n",
    "x = np.random.rand(2,4)\n",
    "x"
   ]
  },
  {
   "cell_type": "code",
   "execution_count": 35,
   "id": "d06f151c",
   "metadata": {},
   "outputs": [
    {
     "data": {
      "text/plain": [
       "3"
      ]
     },
     "execution_count": 35,
     "metadata": {},
     "output_type": "execute_result"
    }
   ],
   "source": [
    "# randint is used to generate random integer between upper and lower bounds\n",
    "x = np.random.randint(9)\n",
    "x"
   ]
  },
  {
   "cell_type": "code",
   "execution_count": 36,
   "id": "5a6d97b9",
   "metadata": {},
   "outputs": [
    {
     "data": {
      "text/plain": [
       "array([83, 12, 85, 36, 60, 34, 72, 65, 48, 49, 22, 78, 77, 82, 66, 93, 18,\n",
       "       60, 84, 92])"
      ]
     },
     "execution_count": 36,
     "metadata": {},
     "output_type": "execute_result"
    }
   ],
   "source": [
    "# randint can be used to generate number of random interger\n",
    "x = np.random.randint(1,100,20)\n",
    "x"
   ]
  },
  {
   "cell_type": "code",
   "execution_count": 38,
   "id": "1cb1eabb",
   "metadata": {},
   "outputs": [
    {
     "data": {
      "text/plain": [
       "array([ 1,  2,  3,  4,  5,  6,  7,  8,  9, 10, 11, 12, 13, 14, 15, 16, 17,\n",
       "       18, 19, 20, 21, 22, 23, 24, 25, 26, 27, 28, 29, 30, 31, 32, 33, 34,\n",
       "       35, 36, 37, 38, 39, 40, 41, 42, 43, 44, 45, 46, 47, 48, 49])"
      ]
     },
     "execution_count": 38,
     "metadata": {},
     "output_type": "execute_result"
    }
   ],
   "source": [
    "# np.arange creates an evenly spaced values within a given interval\n",
    "x = np.arange(1,50)\n",
    "x"
   ]
  },
  {
   "cell_type": "code",
   "execution_count": 40,
   "id": "226f8334",
   "metadata": {},
   "outputs": [
    {
     "data": {
      "text/plain": [
       "array([[1., 0., 0., 0., 0., 0., 0., 0.],\n",
       "       [0., 1., 0., 0., 0., 0., 0., 0.],\n",
       "       [0., 0., 1., 0., 0., 0., 0., 0.],\n",
       "       [0., 0., 0., 1., 0., 0., 0., 0.],\n",
       "       [0., 0., 0., 0., 1., 0., 0., 0.],\n",
       "       [0., 0., 0., 0., 0., 1., 0., 0.],\n",
       "       [0., 0., 0., 0., 0., 0., 1., 0.],\n",
       "       [0., 0., 0., 0., 0., 0., 0., 1.]])"
      ]
     },
     "execution_count": 40,
     "metadata": {},
     "output_type": "execute_result"
    }
   ],
   "source": [
    "# create a diagonal of ones and zeros everywhere else\n",
    "x = np.eye(8)\n",
    "x"
   ]
  },
  {
   "cell_type": "code",
   "execution_count": 43,
   "id": "1e4c2344",
   "metadata": {},
   "outputs": [
    {
     "data": {
      "text/plain": [
       "array([[1., 1., 1., 1., 1., 1., 1., 1., 1., 1.],\n",
       "       [1., 1., 1., 1., 1., 1., 1., 1., 1., 1.],\n",
       "       [1., 1., 1., 1., 1., 1., 1., 1., 1., 1.],\n",
       "       [1., 1., 1., 1., 1., 1., 1., 1., 1., 1.],\n",
       "       [1., 1., 1., 1., 1., 1., 1., 1., 1., 1.],\n",
       "       [1., 1., 1., 1., 1., 1., 1., 1., 1., 1.],\n",
       "       [1., 1., 1., 1., 1., 1., 1., 1., 1., 1.],\n",
       "       [1., 1., 1., 1., 1., 1., 1., 1., 1., 1.]])"
      ]
     },
     "execution_count": 43,
     "metadata": {},
     "output_type": "execute_result"
    }
   ],
   "source": [
    "# Matrix of ones\n",
    "x = np.ones((8,10))\n",
    "x"
   ]
  },
  {
   "cell_type": "code",
   "execution_count": 44,
   "id": "6700b499",
   "metadata": {},
   "outputs": [
    {
     "data": {
      "text/plain": [
       "array([[0., 0., 0., 0., 0.],\n",
       "       [0., 0., 0., 0., 0.],\n",
       "       [0., 0., 0., 0., 0.],\n",
       "       [0., 0., 0., 0., 0.],\n",
       "       [0., 0., 0., 0., 0.]])"
      ]
     },
     "execution_count": 44,
     "metadata": {},
     "output_type": "execute_result"
    }
   ],
   "source": [
    "# Array of zeros\n",
    "x = np.zeros((5,5))\n",
    "x"
   ]
  },
  {
   "cell_type": "code",
   "execution_count": 30,
   "id": "0e9adf06",
   "metadata": {},
   "outputs": [
    {
     "name": "stdout",
     "output_type": "stream",
     "text": [
      "Enter a positive integer value = 200\n"
     ]
    },
    {
     "data": {
      "text/plain": [
       "array([117,  12,  44,  81, 128,  46, 189, 154, 180, 135])"
      ]
     },
     "execution_count": 30,
     "metadata": {},
     "output_type": "execute_result"
    }
   ],
   "source": [
    "#write a code takes a positive integer x from the user and creates a 1*10 array with random number number ranging form 0to x\n",
    "x = int(input(\"Enter a positive integer value = \"))\n",
    "x = np.random.randint(1,x,10)\n",
    "x"
   ]
  },
  {
   "cell_type": "code",
   "execution_count": null,
   "id": "277c26ec",
   "metadata": {},
   "outputs": [],
   "source": [
    "# 3 perform mathematical operations in numpy\n"
   ]
  },
  {
   "cell_type": "code",
   "execution_count": 48,
   "id": "66e02608",
   "metadata": {},
   "outputs": [
    {
     "data": {
      "text/plain": [
       "array([1, 2, 3, 4, 5, 6, 7, 8, 9])"
      ]
     },
     "execution_count": 48,
     "metadata": {},
     "output_type": "execute_result"
    }
   ],
   "source": [
    "# np.arange() returns an evenly spaced values within a given interval\n",
    "a = np.arange(1,10)\n",
    "a\n"
   ]
  },
  {
   "cell_type": "code",
   "execution_count": 49,
   "id": "66eba295",
   "metadata": {},
   "outputs": [
    {
     "data": {
      "text/plain": [
       "array([1, 2, 3, 4, 5, 6, 7, 8, 9])"
      ]
     },
     "execution_count": 49,
     "metadata": {},
     "output_type": "execute_result"
    }
   ],
   "source": [
    "b = np.arange(1,10)\n",
    "b"
   ]
  },
  {
   "cell_type": "markdown",
   "id": "fc43504a",
   "metadata": {},
   "source": []
  },
  {
   "cell_type": "code",
   "execution_count": 50,
   "id": "f46e8c9f",
   "metadata": {},
   "outputs": [
    {
     "data": {
      "text/plain": [
       "array([ 2,  4,  6,  8, 10, 12, 14, 16, 18])"
      ]
     },
     "execution_count": 50,
     "metadata": {},
     "output_type": "execute_result"
    }
   ],
   "source": [
    "# Add 2 numpy arrays together\n",
    "sum = a+b\n",
    "sum"
   ]
  },
  {
   "cell_type": "code",
   "execution_count": 51,
   "id": "5e6a8557",
   "metadata": {},
   "outputs": [
    {
     "data": {
      "text/plain": [
       "array([ 1,  4,  9, 16, 25, 36, 49, 64, 81])"
      ]
     },
     "execution_count": 51,
     "metadata": {},
     "output_type": "execute_result"
    }
   ],
   "source": [
    "#square root\n",
    "square = np.square(a)  # or it can be calculate as a**2\n",
    "square"
   ]
  },
  {
   "cell_type": "code",
   "execution_count": 52,
   "id": "6aa2a194",
   "metadata": {},
   "outputs": [
    {
     "data": {
      "text/plain": [
       "array([1., 2., 3., 4., 5., 6., 7., 8., 9.])"
      ]
     },
     "execution_count": 52,
     "metadata": {},
     "output_type": "execute_result"
    }
   ],
   "source": [
    "sqrt = np.sqrt(square)\n",
    "sqrt"
   ]
  },
  {
   "cell_type": "code",
   "execution_count": 53,
   "id": "686d48df",
   "metadata": {},
   "outputs": [
    {
     "data": {
      "text/plain": [
       "array([2.71828183e+00, 7.38905610e+00, 2.00855369e+01, 5.45981500e+01,\n",
       "       1.48413159e+02, 4.03428793e+02, 1.09663316e+03, 2.98095799e+03,\n",
       "       8.10308393e+03])"
      ]
     },
     "execution_count": 53,
     "metadata": {},
     "output_type": "execute_result"
    }
   ],
   "source": [
    "c = np.exp(a)\n",
    "c"
   ]
  },
  {
   "cell_type": "code",
   "execution_count": 57,
   "id": "d55e28ff",
   "metadata": {},
   "outputs": [
    {
     "data": {
      "text/plain": [
       "array([10.29563014, 16.55294536, 20.39607805])"
      ]
     },
     "execution_count": 57,
     "metadata": {},
     "output_type": "execute_result"
    }
   ],
   "source": [
    "'''MINI CHALLENGE #3:\n",
    "\n",
    "Given the X and Y values below, obtain the distance between them\n",
    "X = [5, 7, 20]\n",
    "Y = [9, 15, 4]'''\n",
    "\n",
    "x = np.array([5,7,20])\n",
    "y = np.array([9,15,4])\n",
    "z = np.sqrt(x**2+y**2)\n",
    "z"
   ]
  },
  {
   "cell_type": "code",
   "execution_count": 59,
   "id": "0893d295",
   "metadata": {},
   "outputs": [
    {
     "data": {
      "text/plain": [
       "array([ 20,  50,  60,  78,  60,  80, 100, 200])"
      ]
     },
     "execution_count": 59,
     "metadata": {},
     "output_type": "execute_result"
    }
   ],
   "source": [
    "# 4=arrays slicing and indexing\n",
    "# Access specific index from the numpy array\n",
    "list_1 = np.array([20,50,60,78,60,80,100,200])\n",
    "list_1"
   ]
  },
  {
   "cell_type": "code",
   "execution_count": 61,
   "id": "c13c6e07",
   "metadata": {},
   "outputs": [
    {
     "data": {
      "text/plain": [
       "array([20, 50, 60, 78, 60])"
      ]
     },
     "execution_count": 61,
     "metadata": {},
     "output_type": "execute_result"
    }
   ],
   "source": [
    "list_1[0]\n",
    "list_1[0:5]"
   ]
  },
  {
   "cell_type": "code",
   "execution_count": 62,
   "id": "8dac2893",
   "metadata": {},
   "outputs": [
    {
     "data": {
      "text/plain": [
       "array([  5,   5,   5,  78,  60,  80, 100, 200])"
      ]
     },
     "execution_count": 62,
     "metadata": {},
     "output_type": "execute_result"
    }
   ],
   "source": [
    "# Broadcasting, altering several values in a numpy array at once\n",
    "list_1[0:3] = 5\n",
    "list_1"
   ]
  },
  {
   "cell_type": "code",
   "execution_count": 64,
   "id": "12930f90",
   "metadata": {},
   "outputs": [
    {
     "data": {
      "text/plain": [
       "array([[9, 8, 4, 9],\n",
       "       [8, 3, 9, 9],\n",
       "       [9, 2, 8, 3],\n",
       "       [1, 8, 2, 7]])"
      ]
     },
     "execution_count": 64,
     "metadata": {},
     "output_type": "execute_result"
    }
   ],
   "source": [
    "# Let's define a two dimensional numpy array\n",
    "matrix = np.random.randint(1,10,(4,4))\n",
    "matrix"
   ]
  },
  {
   "cell_type": "code",
   "execution_count": 65,
   "id": "6ce68bc7",
   "metadata": {},
   "outputs": [
    {
     "data": {
      "text/plain": [
       "array([8, 3, 9, 9])"
      ]
     },
     "execution_count": 65,
     "metadata": {},
     "output_type": "execute_result"
    }
   ],
   "source": [
    "# Get a row from a mtrix\n",
    "matrix[1]"
   ]
  },
  {
   "cell_type": "code",
   "execution_count": 66,
   "id": "a18cc84c",
   "metadata": {},
   "outputs": [
    {
     "data": {
      "text/plain": [
       "9"
      ]
     },
     "execution_count": 66,
     "metadata": {},
     "output_type": "execute_result"
    }
   ],
   "source": [
    "# Get a row from a mtrix\n",
    "matrix[2][0]"
   ]
  },
  {
   "cell_type": "code",
   "execution_count": 68,
   "id": "54952fbc",
   "metadata": {},
   "outputs": [
    {
     "data": {
      "text/plain": [
       "array([[ 2, 30, 20, -2, -4],\n",
       "       [ 3,  4, 40, -3, -2],\n",
       "       [-3,  4, -6, 90, 10],\n",
       "       [25, 45, 34, 22, 12],\n",
       "       [ 0,  0,  0,  0,  0]])"
      ]
     },
     "execution_count": 68,
     "metadata": {},
     "output_type": "execute_result"
    }
   ],
   "source": [
    "'''MINI CHALLENGE #4:\n",
    "\n",
    "In the following matrix, replace the last row with 0'''\n",
    "\n",
    "x = np.array([[2 ,30 ,20 ,-2, -4],\n",
    "            [3 ,4 , 40 ,-3 ,-2],\n",
    "            [-3 ,4 ,-6, 90, 10],\n",
    "            [25, 45 ,34 ,22, 12],\n",
    "            [13 ,24, 22 ,32 ,37]])\n",
    "x[4]=0\n",
    "x"
   ]
  },
  {
   "cell_type": "code",
   "execution_count": 73,
   "id": "888d900d",
   "metadata": {},
   "outputs": [
    {
     "data": {
      "text/plain": [
       "array([[5, 4, 5, 3, 1],\n",
       "       [5, 6, 2, 7, 6],\n",
       "       [5, 6, 4, 2, 7],\n",
       "       [2, 1, 9, 2, 4],\n",
       "       [9, 1, 9, 5, 1]])"
      ]
     },
     "execution_count": 73,
     "metadata": {},
     "output_type": "execute_result"
    }
   ],
   "source": [
    "#5 element selection\n",
    "matrix = np.random.randint(1,10,(5,5))\n",
    "matrix"
   ]
  },
  {
   "cell_type": "code",
   "execution_count": 74,
   "id": "cae43558",
   "metadata": {},
   "outputs": [
    {
     "data": {
      "text/plain": [
       "array([6, 7, 6, 6, 7, 9, 9, 9])"
      ]
     },
     "execution_count": 74,
     "metadata": {},
     "output_type": "execute_result"
    }
   ],
   "source": [
    "matrix[matrix>5]"
   ]
  },
  {
   "cell_type": "code",
   "execution_count": 75,
   "id": "4a5f1453",
   "metadata": {},
   "outputs": [
    {
     "data": {
      "text/plain": [
       "array([5, 5, 3, 1, 5, 7, 5, 7, 1, 9, 9, 1, 9, 5, 1])"
      ]
     },
     "execution_count": 75,
     "metadata": {},
     "output_type": "execute_result"
    }
   ],
   "source": [
    "# Obtain odd elements only\n",
    "new_matrix = matrix[matrix %2 ==1]\n",
    "new_matrix"
   ]
  },
  {
   "cell_type": "code",
   "execution_count": null,
   "id": "7abd2920",
   "metadata": {},
   "outputs": [],
   "source": [
    "'''MINI CHALLENGE #5:\n",
    "\n",
    "In the following matrix, replace negative elements by 0 and replace odd elements with -2\n",
    "X = [2 30 20 -2 -4]\n",
    "    [3 4  40 -3 -2]\n",
    "    [-3 4 -6 90 10]\n",
    "    [25 45 34 22 12]\n",
    "    [13 24 22 32 37]'''"
   ]
  },
  {
   "cell_type": "code",
   "execution_count": 76,
   "id": "9b6cb54d",
   "metadata": {},
   "outputs": [
    {
     "data": {
      "text/plain": [
       "array([[ 2, 30, 20, -2, -4],\n",
       "       [ 3,  4, 40, -3, -2],\n",
       "       [-3,  4, -6, 90, 10],\n",
       "       [25, 45,  4, 22, 12],\n",
       "       [13, 24, 22, 32, 37]])"
      ]
     },
     "execution_count": 76,
     "metadata": {},
     "output_type": "execute_result"
    }
   ],
   "source": [
    "\n",
    "x = np.array([[2 ,30 ,20, -2 ,-4],\n",
    "            [3 ,4 , 40, -3, -2],\n",
    "            [-3, 4, -6, 90, 10],\n",
    "            [25 ,45 ,4, 22, 12],\n",
    "            [13, 24 ,22, 32, 37]])\n",
    "x"
   ]
  },
  {
   "cell_type": "code",
   "execution_count": 78,
   "id": "3ff74349",
   "metadata": {},
   "outputs": [
    {
     "data": {
      "text/plain": [
       "array([[ 2, 30, 20,  0,  0],\n",
       "       [-2,  4, 40,  0,  0],\n",
       "       [ 0,  4,  0, 90, 10],\n",
       "       [-2, -2,  4, 22, 12],\n",
       "       [-2, 24, 22, 32, -2]])"
      ]
     },
     "execution_count": 78,
     "metadata": {},
     "output_type": "execute_result"
    }
   ],
   "source": [
    "x[x<0] = 0\n",
    "x[x%2==1] =-2\n",
    "x"
   ]
  },
  {
   "cell_type": "code",
   "execution_count": null,
   "id": "e3206069",
   "metadata": {},
   "outputs": [],
   "source": []
  }
 ],
 "metadata": {
  "kernelspec": {
   "display_name": "Python 3 (ipykernel)",
   "language": "python",
   "name": "python3"
  },
  "language_info": {
   "codemirror_mode": {
    "name": "ipython",
    "version": 3
   },
   "file_extension": ".py",
   "mimetype": "text/x-python",
   "name": "python",
   "nbconvert_exporter": "python",
   "pygments_lexer": "ipython3",
   "version": "3.11.5"
  }
 },
 "nbformat": 4,
 "nbformat_minor": 5
}
