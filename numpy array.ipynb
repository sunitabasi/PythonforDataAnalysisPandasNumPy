{
 "cells": [
  {
   "cell_type": "code",
   "execution_count": 13,
   "id": "48aa73cc",
   "metadata": {},
   "outputs": [
    {
     "data": {
      "text/plain": [
       "[20, 50, 60, 78, 60, 80, 100, 200]"
      ]
     },
     "execution_count": 13,
     "metadata": {},
     "output_type": "execute_result"
    }
   ],
   "source": [
    "# 1 dimensional array\n",
    "import numpy as np\n",
    "list_1 = [20,50,60,78,60,80,100,200]\n",
    "list_1"
   ]
  },
  {
   "cell_type": "markdown",
   "id": "a6e275a8",
   "metadata": {},
   "source": []
  },
  {
   "cell_type": "code",
   "execution_count": 14,
   "id": "63c55152",
   "metadata": {},
   "outputs": [
    {
     "data": {
      "text/plain": [
       "array([ 20,  50,  60,  78,  60,  80, 100, 200])"
      ]
     },
     "execution_count": 14,
     "metadata": {},
     "output_type": "execute_result"
    }
   ],
   "source": [
    "# let's create a numpy array from the list\"my_list\"\n",
    "my_numpy_list = np.array(list_1)\n",
    "my_numpy_list"
   ]
  },
  {
   "cell_type": "code",
   "execution_count": 15,
   "id": "2a701012",
   "metadata": {},
   "outputs": [
    {
     "data": {
      "text/plain": [
       "numpy.ndarray"
      ]
     },
     "execution_count": 15,
     "metadata": {},
     "output_type": "execute_result"
    }
   ],
   "source": [
    "# to know the type\n",
    "type(my_numpy_list)"
   ]
  },
  {
   "cell_type": "code",
   "execution_count": 16,
   "id": "46dceae9",
   "metadata": {},
   "outputs": [
    {
     "data": {
      "text/plain": [
       "array([[4, 5, 6],\n",
       "       [8, 9, 6]])"
      ]
     },
     "execution_count": 16,
     "metadata": {},
     "output_type": "execute_result"
    }
   ],
   "source": [
    "#multi dimensional array\n",
    "my_matrix = np.array([[4,5,6],[8,9,6]])\n",
    "my_matrix"
   ]
  },
  {
   "cell_type": "code",
   "execution_count": 17,
   "id": "e839f1c4",
   "metadata": {},
   "outputs": [
    {
     "data": {
      "text/plain": [
       "array([[3, 7, 9, 3],\n",
       "       [4, 3, 2, 2]])"
      ]
     },
     "execution_count": 17,
     "metadata": {},
     "output_type": "execute_result"
    }
   ],
   "source": [
    "# write a code that creates the following 2*4 numpy array\n",
    "#[[3 7 9 3]\n",
    "#[4 3 2 2]]\n",
    "a = np.array([[3,7,9,3],[4,3,2,2]])\n",
    "a"
   ]
  },
  {
   "cell_type": "code",
   "execution_count": 18,
   "id": "1b733c84",
   "metadata": {},
   "outputs": [
    {
     "data": {
      "text/plain": [
       "array([0.5922572 , 0.49205145, 0.8268003 , 0.92530289, 0.80643137,\n",
       "       0.9536342 , 0.05981907, 0.745681  , 0.76597994, 0.01141808,\n",
       "       0.34760072, 0.83198478, 0.48629194, 0.4092163 , 0.60624984,\n",
       "       0.17528353, 0.04283633, 0.77228426, 0.78735593, 0.31668642,\n",
       "       0.42988854, 0.00603803, 0.76326513, 0.67582768, 0.84044777,\n",
       "       0.32713687, 0.73918093, 0.56005582, 0.97974255, 0.98182236])"
      ]
     },
     "execution_count": 18,
     "metadata": {},
     "output_type": "execute_result"
    }
   ],
   "source": [
    "# leverage numpy buint in methods and functions\n",
    "# rand() uniform distribution between 0 and 1\n",
    "x = np.random.rand(30)\n",
    "\n",
    "x"
   ]
  },
  {
   "cell_type": "code",
   "execution_count": 19,
   "id": "162dc10a",
   "metadata": {},
   "outputs": [
    {
     "data": {
      "text/plain": [
       "array([[0.03031289, 0.38712633, 0.20146842, 0.53020515],\n",
       "       [0.33459524, 0.62185222, 0.89234543, 0.1085899 ]])"
      ]
     },
     "execution_count": 19,
     "metadata": {},
     "output_type": "execute_result"
    }
   ],
   "source": [
    "#creating a matrix of random number\n",
    "x = np.random.rand(2,4)\n",
    "x"
   ]
  },
  {
   "cell_type": "code",
   "execution_count": 20,
   "id": "d06f151c",
   "metadata": {},
   "outputs": [
    {
     "data": {
      "text/plain": [
       "8"
      ]
     },
     "execution_count": 20,
     "metadata": {},
     "output_type": "execute_result"
    }
   ],
   "source": [
    "# randint is used to generate random integer between upper and lower bounds\n",
    "x = np.random.randint(9)\n",
    "x"
   ]
  },
  {
   "cell_type": "code",
   "execution_count": 21,
   "id": "5a6d97b9",
   "metadata": {},
   "outputs": [
    {
     "data": {
      "text/plain": [
       "array([28, 91, 53, 11, 65, 26, 82, 55, 76, 30,  2, 82, 42,  9, 25, 96, 83,\n",
       "       40, 62, 31])"
      ]
     },
     "execution_count": 21,
     "metadata": {},
     "output_type": "execute_result"
    }
   ],
   "source": [
    "# randint can be used to generate number of random interger\n",
    "x = np.random.randint(1,100,20)\n",
    "x"
   ]
  },
  {
   "cell_type": "code",
   "execution_count": 22,
   "id": "1cb1eabb",
   "metadata": {},
   "outputs": [
    {
     "data": {
      "text/plain": [
       "array([ 1,  2,  3,  4,  5,  6,  7,  8,  9, 10, 11, 12, 13, 14, 15, 16, 17,\n",
       "       18, 19, 20, 21, 22, 23, 24, 25, 26, 27, 28, 29, 30, 31, 32, 33, 34,\n",
       "       35, 36, 37, 38, 39, 40, 41, 42, 43, 44, 45, 46, 47, 48, 49])"
      ]
     },
     "execution_count": 22,
     "metadata": {},
     "output_type": "execute_result"
    }
   ],
   "source": [
    "# np.arange creates an evenly spaced values within a given interval\n",
    "x = np.arange(1,50)\n",
    "x"
   ]
  },
  {
   "cell_type": "code",
   "execution_count": 23,
   "id": "226f8334",
   "metadata": {},
   "outputs": [
    {
     "data": {
      "text/plain": [
       "array([[1., 0., 0., 0., 0., 0., 0., 0.],\n",
       "       [0., 1., 0., 0., 0., 0., 0., 0.],\n",
       "       [0., 0., 1., 0., 0., 0., 0., 0.],\n",
       "       [0., 0., 0., 1., 0., 0., 0., 0.],\n",
       "       [0., 0., 0., 0., 1., 0., 0., 0.],\n",
       "       [0., 0., 0., 0., 0., 1., 0., 0.],\n",
       "       [0., 0., 0., 0., 0., 0., 1., 0.],\n",
       "       [0., 0., 0., 0., 0., 0., 0., 1.]])"
      ]
     },
     "execution_count": 23,
     "metadata": {},
     "output_type": "execute_result"
    }
   ],
   "source": [
    "# create a diagonal of ones and zeros everywhere else\n",
    "x = np.eye(8)\n",
    "x"
   ]
  },
  {
   "cell_type": "code",
   "execution_count": 24,
   "id": "1e4c2344",
   "metadata": {},
   "outputs": [
    {
     "data": {
      "text/plain": [
       "array([[1., 1., 1., 1., 1., 1., 1., 1., 1., 1.],\n",
       "       [1., 1., 1., 1., 1., 1., 1., 1., 1., 1.],\n",
       "       [1., 1., 1., 1., 1., 1., 1., 1., 1., 1.],\n",
       "       [1., 1., 1., 1., 1., 1., 1., 1., 1., 1.],\n",
       "       [1., 1., 1., 1., 1., 1., 1., 1., 1., 1.],\n",
       "       [1., 1., 1., 1., 1., 1., 1., 1., 1., 1.],\n",
       "       [1., 1., 1., 1., 1., 1., 1., 1., 1., 1.],\n",
       "       [1., 1., 1., 1., 1., 1., 1., 1., 1., 1.]])"
      ]
     },
     "execution_count": 24,
     "metadata": {},
     "output_type": "execute_result"
    }
   ],
   "source": [
    "# Matrix of ones\n",
    "x = np.ones((8,10))\n",
    "x"
   ]
  },
  {
   "cell_type": "code",
   "execution_count": 25,
   "id": "6700b499",
   "metadata": {},
   "outputs": [
    {
     "data": {
      "text/plain": [
       "array([[0., 0., 0., 0., 0.],\n",
       "       [0., 0., 0., 0., 0.],\n",
       "       [0., 0., 0., 0., 0.],\n",
       "       [0., 0., 0., 0., 0.],\n",
       "       [0., 0., 0., 0., 0.]])"
      ]
     },
     "execution_count": 25,
     "metadata": {},
     "output_type": "execute_result"
    }
   ],
   "source": [
    "# Array of zeros\n",
    "x = np.zeros((5,5))\n",
    "x"
   ]
  },
  {
   "cell_type": "code",
   "execution_count": 26,
   "id": "0e9adf06",
   "metadata": {},
   "outputs": [
    {
     "name": "stdout",
     "output_type": "stream",
     "text": [
      "Enter a positive integer value = 50\n"
     ]
    },
    {
     "data": {
      "text/plain": [
       "array([15,  9, 21, 30, 13, 36,  2, 28, 36, 11])"
      ]
     },
     "execution_count": 26,
     "metadata": {},
     "output_type": "execute_result"
    }
   ],
   "source": [
    "#write a code takes a positive integer x from the user and creates a 1*10 array with random number number ranging form 0to x\n",
    "x = int(input(\"Enter a positive integer value = \"))\n",
    "x = np.random.randint(1,x,10)\n",
    "x"
   ]
  },
  {
   "cell_type": "code",
   "execution_count": 27,
   "id": "277c26ec",
   "metadata": {},
   "outputs": [],
   "source": [
    "# 3 perform mathematical operations in numpy\n"
   ]
  },
  {
   "cell_type": "code",
   "execution_count": 28,
   "id": "66e02608",
   "metadata": {},
   "outputs": [
    {
     "data": {
      "text/plain": [
       "array([1, 2, 3, 4, 5, 6, 7, 8, 9])"
      ]
     },
     "execution_count": 28,
     "metadata": {},
     "output_type": "execute_result"
    }
   ],
   "source": [
    "# np.arange() returns an evenly spaced values within a given interval\n",
    "a = np.arange(1,10)\n",
    "a\n"
   ]
  },
  {
   "cell_type": "code",
   "execution_count": 29,
   "id": "66eba295",
   "metadata": {},
   "outputs": [
    {
     "data": {
      "text/plain": [
       "array([1, 2, 3, 4, 5, 6, 7, 8, 9])"
      ]
     },
     "execution_count": 29,
     "metadata": {},
     "output_type": "execute_result"
    }
   ],
   "source": [
    "b = np.arange(1,10)\n",
    "b"
   ]
  },
  {
   "cell_type": "markdown",
   "id": "fc43504a",
   "metadata": {},
   "source": []
  },
  {
   "cell_type": "code",
   "execution_count": 30,
   "id": "f46e8c9f",
   "metadata": {},
   "outputs": [
    {
     "data": {
      "text/plain": [
       "array([ 2,  4,  6,  8, 10, 12, 14, 16, 18])"
      ]
     },
     "execution_count": 30,
     "metadata": {},
     "output_type": "execute_result"
    }
   ],
   "source": [
    "# Add 2 numpy arrays together\n",
    "sum = a+b\n",
    "sum"
   ]
  },
  {
   "cell_type": "code",
   "execution_count": 31,
   "id": "5e6a8557",
   "metadata": {},
   "outputs": [
    {
     "data": {
      "text/plain": [
       "array([ 1,  4,  9, 16, 25, 36, 49, 64, 81])"
      ]
     },
     "execution_count": 31,
     "metadata": {},
     "output_type": "execute_result"
    }
   ],
   "source": [
    "#square root\n",
    "square = np.square(a)  # or it can be calculate as a**2\n",
    "square"
   ]
  },
  {
   "cell_type": "code",
   "execution_count": 32,
   "id": "6aa2a194",
   "metadata": {},
   "outputs": [
    {
     "data": {
      "text/plain": [
       "array([1., 2., 3., 4., 5., 6., 7., 8., 9.])"
      ]
     },
     "execution_count": 32,
     "metadata": {},
     "output_type": "execute_result"
    }
   ],
   "source": [
    "sqrt = np.sqrt(square)\n",
    "sqrt"
   ]
  },
  {
   "cell_type": "code",
   "execution_count": 33,
   "id": "686d48df",
   "metadata": {},
   "outputs": [
    {
     "data": {
      "text/plain": [
       "array([2.71828183e+00, 7.38905610e+00, 2.00855369e+01, 5.45981500e+01,\n",
       "       1.48413159e+02, 4.03428793e+02, 1.09663316e+03, 2.98095799e+03,\n",
       "       8.10308393e+03])"
      ]
     },
     "execution_count": 33,
     "metadata": {},
     "output_type": "execute_result"
    }
   ],
   "source": [
    "c = np.exp(a)\n",
    "c"
   ]
  },
  {
   "cell_type": "code",
   "execution_count": 34,
   "id": "d55e28ff",
   "metadata": {},
   "outputs": [
    {
     "data": {
      "text/plain": [
       "array([10.29563014, 16.55294536, 20.39607805])"
      ]
     },
     "execution_count": 34,
     "metadata": {},
     "output_type": "execute_result"
    }
   ],
   "source": [
    "'''MINI CHALLENGE #3:\n",
    "\n",
    "Given the X and Y values below, obtain the distance between them\n",
    "X = [5, 7, 20]\n",
    "Y = [9, 15, 4]'''\n",
    "\n",
    "x = np.array([5,7,20])\n",
    "y = np.array([9,15,4])\n",
    "z = np.sqrt(x**2+y**2)\n",
    "z"
   ]
  },
  {
   "cell_type": "code",
   "execution_count": 35,
   "id": "0893d295",
   "metadata": {},
   "outputs": [
    {
     "data": {
      "text/plain": [
       "array([ 20,  50,  60,  78,  60,  80, 100, 200])"
      ]
     },
     "execution_count": 35,
     "metadata": {},
     "output_type": "execute_result"
    }
   ],
   "source": [
    "# 4=arrays slicing and indexing\n",
    "# Access specific index from the numpy array\n",
    "list_1 = np.array([20,50,60,78,60,80,100,200])\n",
    "list_1"
   ]
  },
  {
   "cell_type": "code",
   "execution_count": 36,
   "id": "c13c6e07",
   "metadata": {},
   "outputs": [
    {
     "data": {
      "text/plain": [
       "array([20, 50, 60, 78, 60])"
      ]
     },
     "execution_count": 36,
     "metadata": {},
     "output_type": "execute_result"
    }
   ],
   "source": [
    "list_1[0]\n",
    "list_1[0:5]"
   ]
  },
  {
   "cell_type": "code",
   "execution_count": 37,
   "id": "8dac2893",
   "metadata": {},
   "outputs": [
    {
     "data": {
      "text/plain": [
       "array([  5,   5,   5,  78,  60,  80, 100, 200])"
      ]
     },
     "execution_count": 37,
     "metadata": {},
     "output_type": "execute_result"
    }
   ],
   "source": [
    "# Broadcasting, altering several values in a numpy array at once\n",
    "list_1[0:3] = 5\n",
    "list_1"
   ]
  },
  {
   "cell_type": "code",
   "execution_count": 38,
   "id": "12930f90",
   "metadata": {},
   "outputs": [
    {
     "data": {
      "text/plain": [
       "array([[3, 7, 9, 7],\n",
       "       [3, 9, 7, 3],\n",
       "       [1, 1, 8, 9],\n",
       "       [5, 9, 7, 8]])"
      ]
     },
     "execution_count": 38,
     "metadata": {},
     "output_type": "execute_result"
    }
   ],
   "source": [
    "# Let's define a two dimensional numpy array\n",
    "matrix = np.random.randint(1,10,(4,4))\n",
    "matrix"
   ]
  },
  {
   "cell_type": "code",
   "execution_count": 39,
   "id": "6ce68bc7",
   "metadata": {},
   "outputs": [
    {
     "data": {
      "text/plain": [
       "array([3, 9, 7, 3])"
      ]
     },
     "execution_count": 39,
     "metadata": {},
     "output_type": "execute_result"
    }
   ],
   "source": [
    "# Get a row from a mtrix\n",
    "matrix[1]"
   ]
  },
  {
   "cell_type": "code",
   "execution_count": 40,
   "id": "a18cc84c",
   "metadata": {},
   "outputs": [
    {
     "data": {
      "text/plain": [
       "1"
      ]
     },
     "execution_count": 40,
     "metadata": {},
     "output_type": "execute_result"
    }
   ],
   "source": [
    "# Get a row from a mtrix\n",
    "matrix[2][0]"
   ]
  },
  {
   "cell_type": "code",
   "execution_count": 41,
   "id": "54952fbc",
   "metadata": {},
   "outputs": [
    {
     "data": {
      "text/plain": [
       "array([[ 2, 30, 20, -2, -4],\n",
       "       [ 3,  4, 40, -3, -2],\n",
       "       [-3,  4, -6, 90, 10],\n",
       "       [25, 45, 34, 22, 12],\n",
       "       [ 0,  0,  0,  0,  0]])"
      ]
     },
     "execution_count": 41,
     "metadata": {},
     "output_type": "execute_result"
    }
   ],
   "source": [
    "'''MINI CHALLENGE #4:\n",
    "\n",
    "In the following matrix, replace the last row with 0'''\n",
    "\n",
    "x = np.array([[2 ,30 ,20 ,-2, -4],\n",
    "            [3 ,4 , 40 ,-3 ,-2],\n",
    "            [-3 ,4 ,-6, 90, 10],\n",
    "            [25, 45 ,34 ,22, 12],\n",
    "            [13 ,24, 22 ,32 ,37]])\n",
    "x[4]=0\n",
    "x"
   ]
  },
  {
   "cell_type": "code",
   "execution_count": 42,
   "id": "888d900d",
   "metadata": {},
   "outputs": [
    {
     "data": {
      "text/plain": [
       "array([[9, 9, 8, 3, 2],\n",
       "       [6, 4, 7, 5, 9],\n",
       "       [4, 8, 7, 1, 4],\n",
       "       [4, 5, 8, 7, 7],\n",
       "       [9, 2, 9, 5, 5]])"
      ]
     },
     "execution_count": 42,
     "metadata": {},
     "output_type": "execute_result"
    }
   ],
   "source": [
    "#5 element selection\n",
    "matrix = np.random.randint(1,10,(5,5))\n",
    "matrix"
   ]
  },
  {
   "cell_type": "code",
   "execution_count": 43,
   "id": "cae43558",
   "metadata": {},
   "outputs": [
    {
     "data": {
      "text/plain": [
       "array([9, 9, 8, 6, 7, 9, 8, 7, 8, 7, 7, 9, 9])"
      ]
     },
     "execution_count": 43,
     "metadata": {},
     "output_type": "execute_result"
    }
   ],
   "source": [
    "matrix[matrix>5]"
   ]
  },
  {
   "cell_type": "code",
   "execution_count": 44,
   "id": "4a5f1453",
   "metadata": {},
   "outputs": [
    {
     "data": {
      "text/plain": [
       "array([9, 9, 3, 7, 5, 9, 7, 1, 5, 7, 7, 9, 9, 5, 5])"
      ]
     },
     "execution_count": 44,
     "metadata": {},
     "output_type": "execute_result"
    }
   ],
   "source": [
    "# Obtain odd elements only\n",
    "new_matrix = matrix[matrix %2 ==1]\n",
    "new_matrix"
   ]
  },
  {
   "cell_type": "code",
   "execution_count": 45,
   "id": "7abd2920",
   "metadata": {},
   "outputs": [
    {
     "data": {
      "text/plain": [
       "'MINI CHALLENGE #5:\\n\\nIn the following matrix, replace negative elements by 0 and replace odd elements with -2\\nX = [2 30 20 -2 -4]\\n    [3 4  40 -3 -2]\\n    [-3 4 -6 90 10]\\n    [25 45 34 22 12]\\n    [13 24 22 32 37]'"
      ]
     },
     "execution_count": 45,
     "metadata": {},
     "output_type": "execute_result"
    }
   ],
   "source": [
    "'''MINI CHALLENGE #5:\n",
    "\n",
    "In the following matrix, replace negative elements by 0 and replace odd elements with -2\n",
    "X = [2 30 20 -2 -4]\n",
    "    [3 4  40 -3 -2]\n",
    "    [-3 4 -6 90 10]\n",
    "    [25 45 34 22 12]\n",
    "    [13 24 22 32 37]'''"
   ]
  },
  {
   "cell_type": "code",
   "execution_count": 46,
   "id": "9b6cb54d",
   "metadata": {},
   "outputs": [
    {
     "data": {
      "text/plain": [
       "array([[ 2, 30, 20, -2, -4],\n",
       "       [ 3,  4, 40, -3, -2],\n",
       "       [-3,  4, -6, 90, 10],\n",
       "       [25, 45,  4, 22, 12],\n",
       "       [13, 24, 22, 32, 37]])"
      ]
     },
     "execution_count": 46,
     "metadata": {},
     "output_type": "execute_result"
    }
   ],
   "source": [
    "\n",
    "x = np.array([[2 ,30 ,20, -2 ,-4],\n",
    "            [3 ,4 , 40, -3, -2],\n",
    "            [-3, 4, -6, 90, 10],\n",
    "            [25 ,45 ,4, 22, 12],\n",
    "            [13, 24 ,22, 32, 37]])\n",
    "x"
   ]
  },
  {
   "cell_type": "code",
   "execution_count": 47,
   "id": "3ff74349",
   "metadata": {},
   "outputs": [
    {
     "data": {
      "text/plain": [
       "array([[ 2, 30, 20,  0,  0],\n",
       "       [-2,  4, 40,  0,  0],\n",
       "       [ 0,  4,  0, 90, 10],\n",
       "       [-2, -2,  4, 22, 12],\n",
       "       [-2, 24, 22, 32, -2]])"
      ]
     },
     "execution_count": 47,
     "metadata": {},
     "output_type": "execute_result"
    }
   ],
   "source": [
    "x[x<0] = 0\n",
    "x[x%2==1] =-2\n",
    "x"
   ]
  },
  {
   "cell_type": "code",
   "execution_count": null,
   "id": "aa35ab17",
   "metadata": {},
   "outputs": [],
   "source": []
  },
  {
   "cell_type": "code",
   "execution_count": 48,
   "id": "e3206069",
   "metadata": {},
   "outputs": [
    {
     "data": {
      "text/html": [
       "<div>\n",
       "<style scoped>\n",
       "    .dataframe tbody tr th:only-of-type {\n",
       "        vertical-align: middle;\n",
       "    }\n",
       "\n",
       "    .dataframe tbody tr th {\n",
       "        vertical-align: top;\n",
       "    }\n",
       "\n",
       "    .dataframe thead th {\n",
       "        text-align: right;\n",
       "    }\n",
       "</style>\n",
       "<table border=\"1\" class=\"dataframe\">\n",
       "  <thead>\n",
       "    <tr style=\"text-align: right;\">\n",
       "      <th></th>\n",
       "      <th>name</th>\n",
       "      <th>address</th>\n",
       "      <th>phone</th>\n",
       "    </tr>\n",
       "  </thead>\n",
       "  <tbody>\n",
       "    <tr>\n",
       "      <th>0</th>\n",
       "      <td>hari</td>\n",
       "      <td>kathmandu</td>\n",
       "      <td>9562</td>\n",
       "    </tr>\n",
       "    <tr>\n",
       "      <th>1</th>\n",
       "      <td>shuna</td>\n",
       "      <td>lalitpur</td>\n",
       "      <td>8945</td>\n",
       "    </tr>\n",
       "    <tr>\n",
       "      <th>2</th>\n",
       "      <td>bal</td>\n",
       "      <td>kapan</td>\n",
       "      <td>2369</td>\n",
       "    </tr>\n",
       "    <tr>\n",
       "      <th>3</th>\n",
       "      <td>kabita</td>\n",
       "      <td>bhaktapur</td>\n",
       "      <td>7456</td>\n",
       "    </tr>\n",
       "  </tbody>\n",
       "</table>\n",
       "</div>"
      ],
      "text/plain": [
       "     name    address  phone\n",
       "0    hari  kathmandu   9562\n",
       "1   shuna   lalitpur   8945\n",
       "2     bal      kapan   2369\n",
       "3  kabita  bhaktapur   7456"
      ]
     },
     "execution_count": 48,
     "metadata": {},
     "output_type": "execute_result"
    }
   ],
   "source": [
    "# 6 understand pandas and fundamentals\n",
    "import pandas as pd\n",
    "bank_data_df = pd.DataFrame({'name':['hari','shuna','bal','kabita'],\n",
    "                            'address':['kathmandu','lalitpur','kapan','bhaktapur'],\n",
    "                            'phone':[9562,8945,2369,7456]})\n",
    "bank_data_df"
   ]
  },
  {
   "cell_type": "code",
   "execution_count": 49,
   "id": "98a1df68",
   "metadata": {},
   "outputs": [
    {
     "data": {
      "text/html": [
       "<div>\n",
       "<style scoped>\n",
       "    .dataframe tbody tr th:only-of-type {\n",
       "        vertical-align: middle;\n",
       "    }\n",
       "\n",
       "    .dataframe tbody tr th {\n",
       "        vertical-align: top;\n",
       "    }\n",
       "\n",
       "    .dataframe thead th {\n",
       "        text-align: right;\n",
       "    }\n",
       "</style>\n",
       "<table border=\"1\" class=\"dataframe\">\n",
       "  <thead>\n",
       "    <tr style=\"text-align: right;\">\n",
       "      <th></th>\n",
       "      <th>name</th>\n",
       "      <th>address</th>\n",
       "      <th>phone</th>\n",
       "    </tr>\n",
       "  </thead>\n",
       "  <tbody>\n",
       "    <tr>\n",
       "      <th>0</th>\n",
       "      <td>hari</td>\n",
       "      <td>kathmandu</td>\n",
       "      <td>9562</td>\n",
       "    </tr>\n",
       "    <tr>\n",
       "      <th>1</th>\n",
       "      <td>shuna</td>\n",
       "      <td>lalitpur</td>\n",
       "      <td>8945</td>\n",
       "    </tr>\n",
       "    <tr>\n",
       "      <th>2</th>\n",
       "      <td>bal</td>\n",
       "      <td>kapan</td>\n",
       "      <td>2369</td>\n",
       "    </tr>\n",
       "  </tbody>\n",
       "</table>\n",
       "</div>"
      ],
      "text/plain": [
       "    name    address  phone\n",
       "0   hari  kathmandu   9562\n",
       "1  shuna   lalitpur   8945\n",
       "2    bal      kapan   2369"
      ]
     },
     "execution_count": 49,
     "metadata": {},
     "output_type": "execute_result"
    }
   ],
   "source": [
    "bank_data_df.head(3)"
   ]
  },
  {
   "cell_type": "code",
   "execution_count": 50,
   "id": "e4a0a68b",
   "metadata": {},
   "outputs": [
    {
     "data": {
      "text/html": [
       "<div>\n",
       "<style scoped>\n",
       "    .dataframe tbody tr th:only-of-type {\n",
       "        vertical-align: middle;\n",
       "    }\n",
       "\n",
       "    .dataframe tbody tr th {\n",
       "        vertical-align: top;\n",
       "    }\n",
       "\n",
       "    .dataframe thead th {\n",
       "        text-align: right;\n",
       "    }\n",
       "</style>\n",
       "<table border=\"1\" class=\"dataframe\">\n",
       "  <thead>\n",
       "    <tr style=\"text-align: right;\">\n",
       "      <th></th>\n",
       "      <th>name</th>\n",
       "      <th>address</th>\n",
       "      <th>phone</th>\n",
       "    </tr>\n",
       "  </thead>\n",
       "  <tbody>\n",
       "    <tr>\n",
       "      <th>2</th>\n",
       "      <td>bal</td>\n",
       "      <td>kapan</td>\n",
       "      <td>2369</td>\n",
       "    </tr>\n",
       "    <tr>\n",
       "      <th>3</th>\n",
       "      <td>kabita</td>\n",
       "      <td>bhaktapur</td>\n",
       "      <td>7456</td>\n",
       "    </tr>\n",
       "  </tbody>\n",
       "</table>\n",
       "</div>"
      ],
      "text/plain": [
       "     name    address  phone\n",
       "2     bal      kapan   2369\n",
       "3  kabita  bhaktapur   7456"
      ]
     },
     "execution_count": 50,
     "metadata": {},
     "output_type": "execute_result"
    }
   ],
   "source": [
    "bank_data_df.tail(2)"
   ]
  },
  {
   "cell_type": "code",
   "execution_count": 51,
   "id": "3fd17c73",
   "metadata": {},
   "outputs": [
    {
     "data": {
      "text/html": [
       "<div>\n",
       "<style scoped>\n",
       "    .dataframe tbody tr th:only-of-type {\n",
       "        vertical-align: middle;\n",
       "    }\n",
       "\n",
       "    .dataframe tbody tr th {\n",
       "        vertical-align: top;\n",
       "    }\n",
       "\n",
       "    .dataframe thead th {\n",
       "        text-align: right;\n",
       "    }\n",
       "</style>\n",
       "<table border=\"1\" class=\"dataframe\">\n",
       "  <thead>\n",
       "    <tr style=\"text-align: right;\">\n",
       "      <th></th>\n",
       "      <th>stock ticker symbols</th>\n",
       "      <th>price per share [Rs]</th>\n",
       "      <th>number of share</th>\n",
       "    </tr>\n",
       "  </thead>\n",
       "  <tbody>\n",
       "    <tr>\n",
       "      <th>0</th>\n",
       "      <td>upper</td>\n",
       "      <td>200</td>\n",
       "      <td>20</td>\n",
       "    </tr>\n",
       "    <tr>\n",
       "      <th>1</th>\n",
       "      <td>nica</td>\n",
       "      <td>500</td>\n",
       "      <td>50</td>\n",
       "    </tr>\n",
       "    <tr>\n",
       "      <th>2</th>\n",
       "      <td>snbl</td>\n",
       "      <td>400</td>\n",
       "      <td>5</td>\n",
       "    </tr>\n",
       "  </tbody>\n",
       "</table>\n",
       "</div>"
      ],
      "text/plain": [
       "  stock ticker symbols  price per share [Rs]  number of share\n",
       "0                upper                   200               20\n",
       "1                 nica                   500               50\n",
       "2                 snbl                   400                5"
      ]
     },
     "execution_count": 51,
     "metadata": {},
     "output_type": "execute_result"
    }
   ],
   "source": [
    "'''MINI CHALLENGE #6:\n",
    "\n",
    "A porfolio contains a collection of securities such as stocks, bonds and ETFs. Define a dataframe named 'portfolio_df' \n",
    "that holds 3 different stock ticker symbols, number of shares, and price per share (feel free to choose any stocks)\n",
    "Calculate the total value of the porfolio including all stocks'''\n",
    "\n",
    "\n",
    "portfolio_df = pd.DataFrame({'stock ticker symbols': ['upper','nica','snbl'],\n",
    "                            'price per share [Rs]':[200,500,400],\n",
    "                            'number of share': [20,50,5]})\n",
    "portfolio_df"
   ]
  },
  {
   "cell_type": "code",
   "execution_count": 52,
   "id": "e23b8dde",
   "metadata": {},
   "outputs": [
    {
     "data": {
      "text/plain": [
       "0     4000\n",
       "1    25000\n",
       "2     2000\n",
       "dtype: int64"
      ]
     },
     "execution_count": 52,
     "metadata": {},
     "output_type": "execute_result"
    }
   ],
   "source": [
    "total_value = portfolio_df['price per share [Rs]']*portfolio_df['number of share']\n",
    "total_value"
   ]
  },
  {
   "cell_type": "code",
   "execution_count": 53,
   "id": "d6798a86",
   "metadata": {},
   "outputs": [
    {
     "data": {
      "text/html": [
       "<div>\n",
       "<style scoped>\n",
       "    .dataframe tbody tr th:only-of-type {\n",
       "        vertical-align: middle;\n",
       "    }\n",
       "\n",
       "    .dataframe tbody tr th {\n",
       "        vertical-align: top;\n",
       "    }\n",
       "\n",
       "    .dataframe thead th {\n",
       "        text-align: right;\n",
       "    }\n",
       "</style>\n",
       "<table border=\"1\" class=\"dataframe\">\n",
       "  <thead>\n",
       "    <tr style=\"text-align: right;\">\n",
       "      <th></th>\n",
       "      <th>City</th>\n",
       "      <th>Average House Price</th>\n",
       "      <th>12 Month Change</th>\n",
       "    </tr>\n",
       "  </thead>\n",
       "  <tbody>\n",
       "    <tr>\n",
       "      <th>0</th>\n",
       "      <td>Vancouver, BC</td>\n",
       "      <td>$1,036,000</td>\n",
       "      <td>+ 2.63 %</td>\n",
       "    </tr>\n",
       "    <tr>\n",
       "      <th>1</th>\n",
       "      <td>Toronto, Ont</td>\n",
       "      <td>$870,000</td>\n",
       "      <td>+10.2 %</td>\n",
       "    </tr>\n",
       "    <tr>\n",
       "      <th>2</th>\n",
       "      <td>Ottawa, Ont</td>\n",
       "      <td>$479,000</td>\n",
       "      <td>+ 15.4 %</td>\n",
       "    </tr>\n",
       "    <tr>\n",
       "      <th>3</th>\n",
       "      <td>Calgary, Alb</td>\n",
       "      <td>$410,000</td>\n",
       "      <td>– 1.5 %</td>\n",
       "    </tr>\n",
       "    <tr>\n",
       "      <th>4</th>\n",
       "      <td>Montreal, Que</td>\n",
       "      <td>$435,000</td>\n",
       "      <td>+ 9.3 %</td>\n",
       "    </tr>\n",
       "    <tr>\n",
       "      <th>5</th>\n",
       "      <td>Halifax, NS</td>\n",
       "      <td>$331,000</td>\n",
       "      <td>+ 3.6 %</td>\n",
       "    </tr>\n",
       "    <tr>\n",
       "      <th>6</th>\n",
       "      <td>Regina, Sask</td>\n",
       "      <td>$254,000</td>\n",
       "      <td>– 3.9 %</td>\n",
       "    </tr>\n",
       "    <tr>\n",
       "      <th>7</th>\n",
       "      <td>Fredericton, NB</td>\n",
       "      <td>$198,000</td>\n",
       "      <td>– 4.3 %</td>\n",
       "    </tr>\n",
       "    <tr>\n",
       "      <th>8</th>\n",
       "      <td>(adsbygoogle = window.adsbygoogle || []).push(...</td>\n",
       "      <td>(adsbygoogle = window.adsbygoogle || []).push(...</td>\n",
       "      <td>(adsbygoogle = window.adsbygoogle || []).push(...</td>\n",
       "    </tr>\n",
       "  </tbody>\n",
       "</table>\n",
       "</div>"
      ],
      "text/plain": [
       "                                                City  \\\n",
       "0                                      Vancouver, BC   \n",
       "1                                       Toronto, Ont   \n",
       "2                                        Ottawa, Ont   \n",
       "3                                       Calgary, Alb   \n",
       "4                                      Montreal, Que   \n",
       "5                                        Halifax, NS   \n",
       "6                                       Regina, Sask   \n",
       "7                                    Fredericton, NB   \n",
       "8  (adsbygoogle = window.adsbygoogle || []).push(...   \n",
       "\n",
       "                                 Average House Price  \\\n",
       "0                                         $1,036,000   \n",
       "1                                           $870,000   \n",
       "2                                           $479,000   \n",
       "3                                           $410,000   \n",
       "4                                           $435,000   \n",
       "5                                           $331,000   \n",
       "6                                           $254,000   \n",
       "7                                           $198,000   \n",
       "8  (adsbygoogle = window.adsbygoogle || []).push(...   \n",
       "\n",
       "                                     12 Month Change  \n",
       "0                                           + 2.63 %  \n",
       "1                                            +10.2 %  \n",
       "2                                           + 15.4 %  \n",
       "3                                            – 1.5 %  \n",
       "4                                            + 9.3 %  \n",
       "5                                            + 3.6 %  \n",
       "6                                            – 3.9 %  \n",
       "7                                            – 4.3 %  \n",
       "8  (adsbygoogle = window.adsbygoogle || []).push(...  "
      ]
     },
     "execution_count": 53,
     "metadata": {},
     "output_type": "execute_result"
    }
   ],
   "source": [
    "#7 pandas with csv and html\n",
    "house_price_df = pd.read_html(\"https://www.livingin-canada.com/house-prices-canada.html\")\n",
    "house_price_df[0]"
   ]
  },
  {
   "cell_type": "code",
   "execution_count": 54,
   "id": "cd91fb95",
   "metadata": {},
   "outputs": [
    {
     "data": {
      "text/html": [
       "<div>\n",
       "<style scoped>\n",
       "    .dataframe tbody tr th:only-of-type {\n",
       "        vertical-align: middle;\n",
       "    }\n",
       "\n",
       "    .dataframe tbody tr th {\n",
       "        vertical-align: top;\n",
       "    }\n",
       "\n",
       "    .dataframe thead th {\n",
       "        text-align: right;\n",
       "    }\n",
       "</style>\n",
       "<table border=\"1\" class=\"dataframe\">\n",
       "  <thead>\n",
       "    <tr style=\"text-align: right;\">\n",
       "      <th></th>\n",
       "      <th>Province</th>\n",
       "      <th>Average House Price</th>\n",
       "      <th>12 Month Change</th>\n",
       "    </tr>\n",
       "  </thead>\n",
       "  <tbody>\n",
       "    <tr>\n",
       "      <th>0</th>\n",
       "      <td>British Columbia</td>\n",
       "      <td>$736,000</td>\n",
       "      <td>+ 7.6 %</td>\n",
       "    </tr>\n",
       "    <tr>\n",
       "      <th>1</th>\n",
       "      <td>Ontario</td>\n",
       "      <td>$594,000</td>\n",
       "      <td>– 3.2 %</td>\n",
       "    </tr>\n",
       "    <tr>\n",
       "      <th>2</th>\n",
       "      <td>Alberta</td>\n",
       "      <td>$353,000</td>\n",
       "      <td>– 7.5 %</td>\n",
       "    </tr>\n",
       "    <tr>\n",
       "      <th>3</th>\n",
       "      <td>Quebec</td>\n",
       "      <td>$340,000</td>\n",
       "      <td>+ 7.6 %</td>\n",
       "    </tr>\n",
       "    <tr>\n",
       "      <th>4</th>\n",
       "      <td>Manitoba</td>\n",
       "      <td>$295,000</td>\n",
       "      <td>– 1.4 %</td>\n",
       "    </tr>\n",
       "    <tr>\n",
       "      <th>5</th>\n",
       "      <td>Saskatchewan</td>\n",
       "      <td>$271,000</td>\n",
       "      <td>– 3.8 %</td>\n",
       "    </tr>\n",
       "    <tr>\n",
       "      <th>6</th>\n",
       "      <td>Nova Scotia</td>\n",
       "      <td>$266,000</td>\n",
       "      <td>+ 3.5 %</td>\n",
       "    </tr>\n",
       "    <tr>\n",
       "      <th>7</th>\n",
       "      <td>Prince Edward Island</td>\n",
       "      <td>$243,000</td>\n",
       "      <td>+ 3.0 %</td>\n",
       "    </tr>\n",
       "    <tr>\n",
       "      <th>8</th>\n",
       "      <td>Newfoundland / Labrador</td>\n",
       "      <td>$236,000</td>\n",
       "      <td>– 1.6 %</td>\n",
       "    </tr>\n",
       "    <tr>\n",
       "      <th>9</th>\n",
       "      <td>New Brunswick</td>\n",
       "      <td>$183,000</td>\n",
       "      <td>– 2.2 %</td>\n",
       "    </tr>\n",
       "    <tr>\n",
       "      <th>10</th>\n",
       "      <td>Canadian Average</td>\n",
       "      <td>$488,000</td>\n",
       "      <td>– 1.3 %</td>\n",
       "    </tr>\n",
       "    <tr>\n",
       "      <th>11</th>\n",
       "      <td>(adsbygoogle = window.adsbygoogle || []).push(...</td>\n",
       "      <td>(adsbygoogle = window.adsbygoogle || []).push(...</td>\n",
       "      <td>(adsbygoogle = window.adsbygoogle || []).push(...</td>\n",
       "    </tr>\n",
       "  </tbody>\n",
       "</table>\n",
       "</div>"
      ],
      "text/plain": [
       "                                             Province  \\\n",
       "0                                    British Columbia   \n",
       "1                                             Ontario   \n",
       "2                                             Alberta   \n",
       "3                                              Quebec   \n",
       "4                                            Manitoba   \n",
       "5                                        Saskatchewan   \n",
       "6                                         Nova Scotia   \n",
       "7                                Prince Edward Island   \n",
       "8                             Newfoundland / Labrador   \n",
       "9                                       New Brunswick   \n",
       "10                                   Canadian Average   \n",
       "11  (adsbygoogle = window.adsbygoogle || []).push(...   \n",
       "\n",
       "                                  Average House Price  \\\n",
       "0                                            $736,000   \n",
       "1                                            $594,000   \n",
       "2                                            $353,000   \n",
       "3                                            $340,000   \n",
       "4                                            $295,000   \n",
       "5                                            $271,000   \n",
       "6                                            $266,000   \n",
       "7                                            $243,000   \n",
       "8                                            $236,000   \n",
       "9                                            $183,000   \n",
       "10                                           $488,000   \n",
       "11  (adsbygoogle = window.adsbygoogle || []).push(...   \n",
       "\n",
       "                                      12 Month Change  \n",
       "0                                             + 7.6 %  \n",
       "1                                             – 3.2 %  \n",
       "2                                             – 7.5 %  \n",
       "3                                             + 7.6 %  \n",
       "4                                             – 1.4 %  \n",
       "5                                             – 3.8 %  \n",
       "6                                             + 3.5 %  \n",
       "7                                             + 3.0 %  \n",
       "8                                             – 1.6 %  \n",
       "9                                             – 2.2 %  \n",
       "10                                            – 1.3 %  \n",
       "11  (adsbygoogle = window.adsbygoogle || []).push(...  "
      ]
     },
     "execution_count": 54,
     "metadata": {},
     "output_type": "execute_result"
    }
   ],
   "source": [
    "house_price_df[1]"
   ]
  },
  {
   "cell_type": "code",
   "execution_count": 75,
   "id": "33818926",
   "metadata": {},
   "outputs": [
    {
     "data": {
      "text/html": [
       "<div>\n",
       "<style scoped>\n",
       "    .dataframe tbody tr th:only-of-type {\n",
       "        vertical-align: middle;\n",
       "    }\n",
       "\n",
       "    .dataframe tbody tr th {\n",
       "        vertical-align: top;\n",
       "    }\n",
       "\n",
       "    .dataframe thead th {\n",
       "        text-align: right;\n",
       "    }\n",
       "</style>\n",
       "<table border=\"1\" class=\"dataframe\">\n",
       "  <thead>\n",
       "    <tr style=\"text-align: right;\">\n",
       "      <th></th>\n",
       "      <th>name</th>\n",
       "      <th>address</th>\n",
       "      <th>phone</th>\n",
       "      <th>saving</th>\n",
       "    </tr>\n",
       "  </thead>\n",
       "  <tbody>\n",
       "    <tr>\n",
       "      <th>0</th>\n",
       "      <td>hari</td>\n",
       "      <td>kathmandu</td>\n",
       "      <td>9562</td>\n",
       "      <td>50000</td>\n",
       "    </tr>\n",
       "    <tr>\n",
       "      <th>1</th>\n",
       "      <td>shuna</td>\n",
       "      <td>lalitpur</td>\n",
       "      <td>8945</td>\n",
       "      <td>60000</td>\n",
       "    </tr>\n",
       "    <tr>\n",
       "      <th>2</th>\n",
       "      <td>bal</td>\n",
       "      <td>kapan</td>\n",
       "      <td>2369</td>\n",
       "      <td>20000</td>\n",
       "    </tr>\n",
       "    <tr>\n",
       "      <th>3</th>\n",
       "      <td>kabita</td>\n",
       "      <td>bhaktapur</td>\n",
       "      <td>7456</td>\n",
       "      <td>65000</td>\n",
       "    </tr>\n",
       "  </tbody>\n",
       "</table>\n",
       "</div>"
      ],
      "text/plain": [
       "     name    address  phone  saving\n",
       "0    hari  kathmandu   9562   50000\n",
       "1   shuna   lalitpur   8945   60000\n",
       "2     bal      kapan   2369   20000\n",
       "3  kabita  bhaktapur   7456   65000"
      ]
     },
     "execution_count": 75,
     "metadata": {},
     "output_type": "execute_result"
    }
   ],
   "source": [
    "# 8 pandas operation\n",
    "#defining a data frame\n",
    "bank_data_df = pd.DataFrame({'name':['hari','shuna','bal','kabita'],\n",
    "                            'address':['kathmandu','lalitpur','kapan','bhaktapur'],\n",
    "                            'phone':[9562,8945,2369,7456],\n",
    "                            'saving':[50000,60000,20000,65000]})\n",
    "bank_data_df"
   ]
  },
  {
   "cell_type": "code",
   "execution_count": 76,
   "id": "d2fc0785",
   "metadata": {},
   "outputs": [
    {
     "data": {
      "text/html": [
       "<div>\n",
       "<style scoped>\n",
       "    .dataframe tbody tr th:only-of-type {\n",
       "        vertical-align: middle;\n",
       "    }\n",
       "\n",
       "    .dataframe tbody tr th {\n",
       "        vertical-align: top;\n",
       "    }\n",
       "\n",
       "    .dataframe thead th {\n",
       "        text-align: right;\n",
       "    }\n",
       "</style>\n",
       "<table border=\"1\" class=\"dataframe\">\n",
       "  <thead>\n",
       "    <tr style=\"text-align: right;\">\n",
       "      <th></th>\n",
       "      <th>name</th>\n",
       "      <th>address</th>\n",
       "      <th>phone</th>\n",
       "      <th>saving</th>\n",
       "    </tr>\n",
       "  </thead>\n",
       "  <tbody>\n",
       "    <tr>\n",
       "      <th>0</th>\n",
       "      <td>hari</td>\n",
       "      <td>kathmandu</td>\n",
       "      <td>9562</td>\n",
       "      <td>50000</td>\n",
       "    </tr>\n",
       "    <tr>\n",
       "      <th>1</th>\n",
       "      <td>shuna</td>\n",
       "      <td>lalitpur</td>\n",
       "      <td>8945</td>\n",
       "      <td>60000</td>\n",
       "    </tr>\n",
       "    <tr>\n",
       "      <th>3</th>\n",
       "      <td>kabita</td>\n",
       "      <td>bhaktapur</td>\n",
       "      <td>7456</td>\n",
       "      <td>65000</td>\n",
       "    </tr>\n",
       "  </tbody>\n",
       "</table>\n",
       "</div>"
      ],
      "text/plain": [
       "     name    address  phone  saving\n",
       "0    hari  kathmandu   9562   50000\n",
       "1   shuna   lalitpur   8945   60000\n",
       "3  kabita  bhaktapur   7456   65000"
      ]
     },
     "execution_count": 76,
     "metadata": {},
     "output_type": "execute_result"
    }
   ],
   "source": [
    "#filtering\n",
    "new_data_df = bank_data_df[bank_data_df['saving']>=50000]\n",
    "new_data_df"
   ]
  },
  {
   "cell_type": "code",
   "execution_count": 77,
   "id": "1586d3d8",
   "metadata": {},
   "outputs": [
    {
     "data": {
      "text/html": [
       "<div>\n",
       "<style scoped>\n",
       "    .dataframe tbody tr th:only-of-type {\n",
       "        vertical-align: middle;\n",
       "    }\n",
       "\n",
       "    .dataframe tbody tr th {\n",
       "        vertical-align: top;\n",
       "    }\n",
       "\n",
       "    .dataframe thead th {\n",
       "        text-align: right;\n",
       "    }\n",
       "</style>\n",
       "<table border=\"1\" class=\"dataframe\">\n",
       "  <thead>\n",
       "    <tr style=\"text-align: right;\">\n",
       "      <th></th>\n",
       "      <th>address</th>\n",
       "      <th>phone</th>\n",
       "      <th>saving</th>\n",
       "    </tr>\n",
       "  </thead>\n",
       "  <tbody>\n",
       "    <tr>\n",
       "      <th>0</th>\n",
       "      <td>kathmandu</td>\n",
       "      <td>9562</td>\n",
       "      <td>50000</td>\n",
       "    </tr>\n",
       "    <tr>\n",
       "      <th>1</th>\n",
       "      <td>lalitpur</td>\n",
       "      <td>8945</td>\n",
       "      <td>60000</td>\n",
       "    </tr>\n",
       "    <tr>\n",
       "      <th>2</th>\n",
       "      <td>kapan</td>\n",
       "      <td>2369</td>\n",
       "      <td>20000</td>\n",
       "    </tr>\n",
       "    <tr>\n",
       "      <th>3</th>\n",
       "      <td>bhaktapur</td>\n",
       "      <td>7456</td>\n",
       "      <td>65000</td>\n",
       "    </tr>\n",
       "  </tbody>\n",
       "</table>\n",
       "</div>"
      ],
      "text/plain": [
       "     address  phone  saving\n",
       "0  kathmandu   9562   50000\n",
       "1   lalitpur   8945   60000\n",
       "2      kapan   2369   20000\n",
       "3  bhaktapur   7456   65000"
      ]
     },
     "execution_count": 77,
     "metadata": {},
     "output_type": "execute_result"
    }
   ],
   "source": [
    "# deleting\n",
    "del bank_data_df['name']\n",
    "bank_data_df"
   ]
  },
  {
   "cell_type": "code",
   "execution_count": 78,
   "id": "a3d02f77",
   "metadata": {},
   "outputs": [
    {
     "data": {
      "text/html": [
       "<div>\n",
       "<style scoped>\n",
       "    .dataframe tbody tr th:only-of-type {\n",
       "        vertical-align: middle;\n",
       "    }\n",
       "\n",
       "    .dataframe tbody tr th {\n",
       "        vertical-align: top;\n",
       "    }\n",
       "\n",
       "    .dataframe thead th {\n",
       "        text-align: right;\n",
       "    }\n",
       "</style>\n",
       "<table border=\"1\" class=\"dataframe\">\n",
       "  <thead>\n",
       "    <tr style=\"text-align: right;\">\n",
       "      <th></th>\n",
       "      <th>Bank client ID</th>\n",
       "      <th>Bank Client Name</th>\n",
       "      <th>Net worth [$]</th>\n",
       "      <th>Years with bank</th>\n",
       "    </tr>\n",
       "  </thead>\n",
       "  <tbody>\n",
       "    <tr>\n",
       "      <th>0</th>\n",
       "      <td>111</td>\n",
       "      <td>Chanel</td>\n",
       "      <td>3500</td>\n",
       "      <td>3</td>\n",
       "    </tr>\n",
       "    <tr>\n",
       "      <th>1</th>\n",
       "      <td>222</td>\n",
       "      <td>Steve</td>\n",
       "      <td>29000</td>\n",
       "      <td>4</td>\n",
       "    </tr>\n",
       "    <tr>\n",
       "      <th>2</th>\n",
       "      <td>333</td>\n",
       "      <td>Mitch</td>\n",
       "      <td>10000</td>\n",
       "      <td>9</td>\n",
       "    </tr>\n",
       "    <tr>\n",
       "      <th>3</th>\n",
       "      <td>444</td>\n",
       "      <td>Ryan</td>\n",
       "      <td>2000</td>\n",
       "      <td>5</td>\n",
       "    </tr>\n",
       "  </tbody>\n",
       "</table>\n",
       "</div>"
      ],
      "text/plain": [
       "   Bank client ID Bank Client Name  Net worth [$]  Years with bank\n",
       "0             111           Chanel           3500                3\n",
       "1             222            Steve          29000                4\n",
       "2             333            Mitch          10000                9\n",
       "3             444             Ryan           2000                5"
      ]
     },
     "execution_count": 78,
     "metadata": {},
     "output_type": "execute_result"
    }
   ],
   "source": [
    "#9 pandas with function\n",
    "bank_client_df = pd.DataFrame({'Bank client ID':[111, 222, 333, 444], \n",
    "                               'Bank Client Name':['Chanel', 'Steve', 'Mitch', 'Ryan'], \n",
    "                               'Net worth [$]':[3500, 29000, 10000, 2000], \n",
    "                               'Years with bank':[3, 4, 9, 5]})\n",
    "bank_client_df"
   ]
  },
  {
   "cell_type": "code",
   "execution_count": 80,
   "id": "f034ca94",
   "metadata": {},
   "outputs": [
    {
     "data": {
      "text/plain": [
       "0     4200.0\n",
       "1    34800.0\n",
       "2    12000.0\n",
       "3     2400.0\n",
       "Name: Net worth [$], dtype: float64"
      ]
     },
     "execution_count": 80,
     "metadata": {},
     "output_type": "execute_result"
    }
   ],
   "source": [
    "# increase the net worth by 20%\n",
    "def networth_update(balance):\n",
    "    return balance *1.2\n",
    "bank_client_df['Net worth [$]'].apply(networth_update)"
   ]
  },
  {
   "cell_type": "code",
   "execution_count": 81,
   "id": "412e6a68",
   "metadata": {},
   "outputs": [
    {
     "data": {
      "text/plain": [
       "0    6\n",
       "1    5\n",
       "2    5\n",
       "3    4\n",
       "Name: Bank Client Name, dtype: int64"
      ]
     },
     "execution_count": 81,
     "metadata": {},
     "output_type": "execute_result"
    }
   ],
   "source": [
    "#we can also calculate the length of the variables\n",
    "bank_client_df['Bank Client Name'].apply(len)"
   ]
  },
  {
   "cell_type": "code",
   "execution_count": 83,
   "id": "fee76743",
   "metadata": {},
   "outputs": [
    {
     "data": {
      "text/plain": [
       "0    10700\n",
       "1    87200\n",
       "2    30200\n",
       "3     6200\n",
       "Name: Net worth [$], dtype: int64"
      ]
     },
     "execution_count": 83,
     "metadata": {},
     "output_type": "execute_result"
    }
   ],
   "source": [
    "'''MINI CHALLENGE #9:\n",
    "\n",
    "Define a function that triples the stock prices and adds $200\n",
    "Apply the function to the DataFrame\n",
    "Calculate the updated total networth of all clients combined\n",
    "'''\n",
    "def networth_update(balance):\n",
    "    return balance *3+200\n",
    "bank_client_df['Net worth [$]'].apply(networth_update)"
   ]
  },
  {
   "cell_type": "code",
   "execution_count": 84,
   "id": "0ad49db6",
   "metadata": {},
   "outputs": [
    {
     "data": {
      "text/html": [
       "<div>\n",
       "<style scoped>\n",
       "    .dataframe tbody tr th:only-of-type {\n",
       "        vertical-align: middle;\n",
       "    }\n",
       "\n",
       "    .dataframe tbody tr th {\n",
       "        vertical-align: top;\n",
       "    }\n",
       "\n",
       "    .dataframe thead th {\n",
       "        text-align: right;\n",
       "    }\n",
       "</style>\n",
       "<table border=\"1\" class=\"dataframe\">\n",
       "  <thead>\n",
       "    <tr style=\"text-align: right;\">\n",
       "      <th></th>\n",
       "      <th>Bank client ID</th>\n",
       "      <th>Bank Client Name</th>\n",
       "      <th>Net worth [$]</th>\n",
       "      <th>Years with bank</th>\n",
       "    </tr>\n",
       "  </thead>\n",
       "  <tbody>\n",
       "    <tr>\n",
       "      <th>0</th>\n",
       "      <td>111</td>\n",
       "      <td>Chanel</td>\n",
       "      <td>3500</td>\n",
       "      <td>3</td>\n",
       "    </tr>\n",
       "    <tr>\n",
       "      <th>1</th>\n",
       "      <td>222</td>\n",
       "      <td>Steve</td>\n",
       "      <td>29000</td>\n",
       "      <td>4</td>\n",
       "    </tr>\n",
       "    <tr>\n",
       "      <th>2</th>\n",
       "      <td>333</td>\n",
       "      <td>Mitch</td>\n",
       "      <td>10000</td>\n",
       "      <td>9</td>\n",
       "    </tr>\n",
       "    <tr>\n",
       "      <th>3</th>\n",
       "      <td>444</td>\n",
       "      <td>Ryan</td>\n",
       "      <td>2000</td>\n",
       "      <td>5</td>\n",
       "    </tr>\n",
       "  </tbody>\n",
       "</table>\n",
       "</div>"
      ],
      "text/plain": [
       "   Bank client ID Bank Client Name  Net worth [$]  Years with bank\n",
       "0             111           Chanel           3500                3\n",
       "1             222            Steve          29000                4\n",
       "2             333            Mitch          10000                9\n",
       "3             444             Ryan           2000                5"
      ]
     },
     "execution_count": 84,
     "metadata": {},
     "output_type": "execute_result"
    }
   ],
   "source": [
    "# 10 sorting and ordering with pandas\n",
    "# Let's define a dataframe as follows:\n",
    "import pandas as pd\n",
    "bank_client_df = pd.DataFrame({'Bank client ID':[111, 222, 333, 444], \n",
    "                               'Bank Client Name':['Chanel', 'Steve', 'Mitch', 'Ryan'], \n",
    "                               'Net worth [$]':[3500, 29000, 10000, 2000], \n",
    "                               'Years with bank':[3, 4, 9, 5]})\n",
    "bank_client_df"
   ]
  },
  {
   "cell_type": "code",
   "execution_count": 85,
   "id": "77c8e1d4",
   "metadata": {},
   "outputs": [
    {
     "data": {
      "text/html": [
       "<div>\n",
       "<style scoped>\n",
       "    .dataframe tbody tr th:only-of-type {\n",
       "        vertical-align: middle;\n",
       "    }\n",
       "\n",
       "    .dataframe tbody tr th {\n",
       "        vertical-align: top;\n",
       "    }\n",
       "\n",
       "    .dataframe thead th {\n",
       "        text-align: right;\n",
       "    }\n",
       "</style>\n",
       "<table border=\"1\" class=\"dataframe\">\n",
       "  <thead>\n",
       "    <tr style=\"text-align: right;\">\n",
       "      <th></th>\n",
       "      <th>Bank client ID</th>\n",
       "      <th>Bank Client Name</th>\n",
       "      <th>Net worth [$]</th>\n",
       "      <th>Years with bank</th>\n",
       "    </tr>\n",
       "  </thead>\n",
       "  <tbody>\n",
       "    <tr>\n",
       "      <th>0</th>\n",
       "      <td>111</td>\n",
       "      <td>Chanel</td>\n",
       "      <td>3500</td>\n",
       "      <td>3</td>\n",
       "    </tr>\n",
       "    <tr>\n",
       "      <th>1</th>\n",
       "      <td>222</td>\n",
       "      <td>Steve</td>\n",
       "      <td>29000</td>\n",
       "      <td>4</td>\n",
       "    </tr>\n",
       "    <tr>\n",
       "      <th>3</th>\n",
       "      <td>444</td>\n",
       "      <td>Ryan</td>\n",
       "      <td>2000</td>\n",
       "      <td>5</td>\n",
       "    </tr>\n",
       "    <tr>\n",
       "      <th>2</th>\n",
       "      <td>333</td>\n",
       "      <td>Mitch</td>\n",
       "      <td>10000</td>\n",
       "      <td>9</td>\n",
       "    </tr>\n",
       "  </tbody>\n",
       "</table>\n",
       "</div>"
      ],
      "text/plain": [
       "   Bank client ID Bank Client Name  Net worth [$]  Years with bank\n",
       "0             111           Chanel           3500                3\n",
       "1             222            Steve          29000                4\n",
       "3             444             Ryan           2000                5\n",
       "2             333            Mitch          10000                9"
      ]
     },
     "execution_count": 85,
     "metadata": {},
     "output_type": "execute_result"
    }
   ],
   "source": [
    "# You can sort the values in the dataframe according tao number of years with bank\n",
    "bank_client_df.sort_values(by = 'Years with bank')"
   ]
  },
  {
   "cell_type": "code",
   "execution_count": 86,
   "id": "791b6584",
   "metadata": {},
   "outputs": [
    {
     "data": {
      "text/html": [
       "<div>\n",
       "<style scoped>\n",
       "    .dataframe tbody tr th:only-of-type {\n",
       "        vertical-align: middle;\n",
       "    }\n",
       "\n",
       "    .dataframe tbody tr th {\n",
       "        vertical-align: top;\n",
       "    }\n",
       "\n",
       "    .dataframe thead th {\n",
       "        text-align: right;\n",
       "    }\n",
       "</style>\n",
       "<table border=\"1\" class=\"dataframe\">\n",
       "  <thead>\n",
       "    <tr style=\"text-align: right;\">\n",
       "      <th></th>\n",
       "      <th>Bank client ID</th>\n",
       "      <th>Bank Client Name</th>\n",
       "      <th>Net worth [$]</th>\n",
       "      <th>Years with bank</th>\n",
       "    </tr>\n",
       "  </thead>\n",
       "  <tbody>\n",
       "    <tr>\n",
       "      <th>0</th>\n",
       "      <td>111</td>\n",
       "      <td>Chanel</td>\n",
       "      <td>3500</td>\n",
       "      <td>3</td>\n",
       "    </tr>\n",
       "    <tr>\n",
       "      <th>1</th>\n",
       "      <td>222</td>\n",
       "      <td>Steve</td>\n",
       "      <td>29000</td>\n",
       "      <td>4</td>\n",
       "    </tr>\n",
       "    <tr>\n",
       "      <th>2</th>\n",
       "      <td>333</td>\n",
       "      <td>Mitch</td>\n",
       "      <td>10000</td>\n",
       "      <td>9</td>\n",
       "    </tr>\n",
       "    <tr>\n",
       "      <th>3</th>\n",
       "      <td>444</td>\n",
       "      <td>Ryan</td>\n",
       "      <td>2000</td>\n",
       "      <td>5</td>\n",
       "    </tr>\n",
       "  </tbody>\n",
       "</table>\n",
       "</div>"
      ],
      "text/plain": [
       "   Bank client ID Bank Client Name  Net worth [$]  Years with bank\n",
       "0             111           Chanel           3500                3\n",
       "1             222            Steve          29000                4\n",
       "2             333            Mitch          10000                9\n",
       "3             444             Ryan           2000                5"
      ]
     },
     "execution_count": 86,
     "metadata": {},
     "output_type": "execute_result"
    }
   ],
   "source": [
    "# Note that nothing changed in memory! you have to make sure that inplace is set to True\n",
    "bank_client_df"
   ]
  },
  {
   "cell_type": "code",
   "execution_count": 88,
   "id": "46b15662",
   "metadata": {},
   "outputs": [
    {
     "data": {
      "text/html": [
       "<div>\n",
       "<style scoped>\n",
       "    .dataframe tbody tr th:only-of-type {\n",
       "        vertical-align: middle;\n",
       "    }\n",
       "\n",
       "    .dataframe tbody tr th {\n",
       "        vertical-align: top;\n",
       "    }\n",
       "\n",
       "    .dataframe thead th {\n",
       "        text-align: right;\n",
       "    }\n",
       "</style>\n",
       "<table border=\"1\" class=\"dataframe\">\n",
       "  <thead>\n",
       "    <tr style=\"text-align: right;\">\n",
       "      <th></th>\n",
       "      <th>Bank client ID</th>\n",
       "      <th>Bank Client Name</th>\n",
       "      <th>Net worth [$]</th>\n",
       "      <th>Years with bank</th>\n",
       "    </tr>\n",
       "  </thead>\n",
       "  <tbody>\n",
       "    <tr>\n",
       "      <th>0</th>\n",
       "      <td>111</td>\n",
       "      <td>Chanel</td>\n",
       "      <td>3500</td>\n",
       "      <td>3</td>\n",
       "    </tr>\n",
       "    <tr>\n",
       "      <th>1</th>\n",
       "      <td>222</td>\n",
       "      <td>Steve</td>\n",
       "      <td>29000</td>\n",
       "      <td>4</td>\n",
       "    </tr>\n",
       "    <tr>\n",
       "      <th>3</th>\n",
       "      <td>444</td>\n",
       "      <td>Ryan</td>\n",
       "      <td>2000</td>\n",
       "      <td>5</td>\n",
       "    </tr>\n",
       "    <tr>\n",
       "      <th>2</th>\n",
       "      <td>333</td>\n",
       "      <td>Mitch</td>\n",
       "      <td>10000</td>\n",
       "      <td>9</td>\n",
       "    </tr>\n",
       "  </tbody>\n",
       "</table>\n",
       "</div>"
      ],
      "text/plain": [
       "   Bank client ID Bank Client Name  Net worth [$]  Years with bank\n",
       "0             111           Chanel           3500                3\n",
       "1             222            Steve          29000                4\n",
       "3             444             Ryan           2000                5\n",
       "2             333            Mitch          10000                9"
      ]
     },
     "execution_count": 88,
     "metadata": {},
     "output_type": "execute_result"
    }
   ],
   "source": [
    "# Set inplace = True to ensure that change has taken place in memory \n",
    "bank_client_df.sort_values(by = 'Years with bank', inplace = True)\n",
    "bank_client_df"
   ]
  },
  {
   "cell_type": "code",
   "execution_count": 89,
   "id": "5aed3efa",
   "metadata": {},
   "outputs": [
    {
     "data": {
      "text/html": [
       "<div>\n",
       "<style scoped>\n",
       "    .dataframe tbody tr th:only-of-type {\n",
       "        vertical-align: middle;\n",
       "    }\n",
       "\n",
       "    .dataframe tbody tr th {\n",
       "        vertical-align: top;\n",
       "    }\n",
       "\n",
       "    .dataframe thead th {\n",
       "        text-align: right;\n",
       "    }\n",
       "</style>\n",
       "<table border=\"1\" class=\"dataframe\">\n",
       "  <thead>\n",
       "    <tr style=\"text-align: right;\">\n",
       "      <th></th>\n",
       "      <th>A</th>\n",
       "      <th>B</th>\n",
       "      <th>C</th>\n",
       "      <th>D</th>\n",
       "    </tr>\n",
       "  </thead>\n",
       "  <tbody>\n",
       "    <tr>\n",
       "      <th>1</th>\n",
       "      <td>A1</td>\n",
       "      <td>B1</td>\n",
       "      <td>C1</td>\n",
       "      <td>D1</td>\n",
       "    </tr>\n",
       "    <tr>\n",
       "      <th>2</th>\n",
       "      <td>A2</td>\n",
       "      <td>B2</td>\n",
       "      <td>C2</td>\n",
       "      <td>D2</td>\n",
       "    </tr>\n",
       "    <tr>\n",
       "      <th>3</th>\n",
       "      <td>A3</td>\n",
       "      <td>B3</td>\n",
       "      <td>C3</td>\n",
       "      <td>D3</td>\n",
       "    </tr>\n",
       "    <tr>\n",
       "      <th>4</th>\n",
       "      <td>A4</td>\n",
       "      <td>B4</td>\n",
       "      <td>C4</td>\n",
       "      <td>D4</td>\n",
       "    </tr>\n",
       "  </tbody>\n",
       "</table>\n",
       "</div>"
      ],
      "text/plain": [
       "    A   B   C   D\n",
       "1  A1  B1  C1  D1\n",
       "2  A2  B2  C2  D2\n",
       "3  A3  B3  C3  D3\n",
       "4  A4  B4  C4  D4"
      ]
     },
     "execution_count": 89,
     "metadata": {},
     "output_type": "execute_result"
    }
   ],
   "source": [
    "#TASK #11: PERFORM CONCATENATING AND MERGING WITH PANDAS\n",
    "df1 = pd.DataFrame({'A':['A1','A2','A3','A4'],\n",
    "                   'B':['B1','B2','B3','B4'],\n",
    "                   'C':['C1','C2','C3','C4'],\n",
    "                   'D':['D1','D2','D3','D4']},\n",
    "                     index = [1,2,3,4])\n",
    "df1"
   ]
  },
  {
   "cell_type": "code",
   "execution_count": 90,
   "id": "74ea881b",
   "metadata": {},
   "outputs": [
    {
     "data": {
      "text/html": [
       "<div>\n",
       "<style scoped>\n",
       "    .dataframe tbody tr th:only-of-type {\n",
       "        vertical-align: middle;\n",
       "    }\n",
       "\n",
       "    .dataframe tbody tr th {\n",
       "        vertical-align: top;\n",
       "    }\n",
       "\n",
       "    .dataframe thead th {\n",
       "        text-align: right;\n",
       "    }\n",
       "</style>\n",
       "<table border=\"1\" class=\"dataframe\">\n",
       "  <thead>\n",
       "    <tr style=\"text-align: right;\">\n",
       "      <th></th>\n",
       "      <th>A</th>\n",
       "      <th>B</th>\n",
       "      <th>C</th>\n",
       "      <th>D</th>\n",
       "    </tr>\n",
       "  </thead>\n",
       "  <tbody>\n",
       "    <tr>\n",
       "      <th>5</th>\n",
       "      <td>A5</td>\n",
       "      <td>B5</td>\n",
       "      <td>C5</td>\n",
       "      <td>D5</td>\n",
       "    </tr>\n",
       "    <tr>\n",
       "      <th>6</th>\n",
       "      <td>A6</td>\n",
       "      <td>B6</td>\n",
       "      <td>C6</td>\n",
       "      <td>D6</td>\n",
       "    </tr>\n",
       "    <tr>\n",
       "      <th>7</th>\n",
       "      <td>A7</td>\n",
       "      <td>B7</td>\n",
       "      <td>C7</td>\n",
       "      <td>D7</td>\n",
       "    </tr>\n",
       "    <tr>\n",
       "      <th>8</th>\n",
       "      <td>A8</td>\n",
       "      <td>B8</td>\n",
       "      <td>C8</td>\n",
       "      <td>D8</td>\n",
       "    </tr>\n",
       "  </tbody>\n",
       "</table>\n",
       "</div>"
      ],
      "text/plain": [
       "    A   B   C   D\n",
       "5  A5  B5  C5  D5\n",
       "6  A6  B6  C6  D6\n",
       "7  A7  B7  C7  D7\n",
       "8  A8  B8  C8  D8"
      ]
     },
     "execution_count": 90,
     "metadata": {},
     "output_type": "execute_result"
    }
   ],
   "source": [
    "df2 = pd.DataFrame({'A':['A5','A6','A7','A8'],\n",
    "                   'B':['B5','B6','B7','B8'],\n",
    "                   'C':['C5','C6','C7','C8'],\n",
    "                   'D':['D5','D6','D7','D8']},\n",
    "                     index = [5,6,7,8])\n",
    "df2"
   ]
  },
  {
   "cell_type": "code",
   "execution_count": 91,
   "id": "29b7aa62",
   "metadata": {},
   "outputs": [
    {
     "data": {
      "text/html": [
       "<div>\n",
       "<style scoped>\n",
       "    .dataframe tbody tr th:only-of-type {\n",
       "        vertical-align: middle;\n",
       "    }\n",
       "\n",
       "    .dataframe tbody tr th {\n",
       "        vertical-align: top;\n",
       "    }\n",
       "\n",
       "    .dataframe thead th {\n",
       "        text-align: right;\n",
       "    }\n",
       "</style>\n",
       "<table border=\"1\" class=\"dataframe\">\n",
       "  <thead>\n",
       "    <tr style=\"text-align: right;\">\n",
       "      <th></th>\n",
       "      <th>A</th>\n",
       "      <th>B</th>\n",
       "      <th>C</th>\n",
       "      <th>D</th>\n",
       "    </tr>\n",
       "  </thead>\n",
       "  <tbody>\n",
       "    <tr>\n",
       "      <th>9</th>\n",
       "      <td>A9</td>\n",
       "      <td>B9</td>\n",
       "      <td>C9</td>\n",
       "      <td>D9</td>\n",
       "    </tr>\n",
       "    <tr>\n",
       "      <th>10</th>\n",
       "      <td>A10</td>\n",
       "      <td>B10</td>\n",
       "      <td>C10</td>\n",
       "      <td>D10</td>\n",
       "    </tr>\n",
       "    <tr>\n",
       "      <th>11</th>\n",
       "      <td>A11</td>\n",
       "      <td>B11</td>\n",
       "      <td>C11</td>\n",
       "      <td>D11</td>\n",
       "    </tr>\n",
       "    <tr>\n",
       "      <th>12</th>\n",
       "      <td>A12</td>\n",
       "      <td>B12</td>\n",
       "      <td>C12</td>\n",
       "      <td>D12</td>\n",
       "    </tr>\n",
       "  </tbody>\n",
       "</table>\n",
       "</div>"
      ],
      "text/plain": [
       "      A    B    C    D\n",
       "9    A9   B9   C9   D9\n",
       "10  A10  B10  C10  D10\n",
       "11  A11  B11  C11  D11\n",
       "12  A12  B12  C12  D12"
      ]
     },
     "execution_count": 91,
     "metadata": {},
     "output_type": "execute_result"
    }
   ],
   "source": [
    "df3 = pd.DataFrame({'A':['A9','A10','A11','A12'],\n",
    "                   'B':['B9','B10','B11','B12'],\n",
    "                   'C':['C9','C10','C11','C12'],\n",
    "                   'D':['D9','D10','D11','D12']},\n",
    "                     index = [9,10,11,12])\n",
    "df3"
   ]
  },
  {
   "cell_type": "code",
   "execution_count": 92,
   "id": "e43b0e12",
   "metadata": {},
   "outputs": [
    {
     "data": {
      "text/html": [
       "<div>\n",
       "<style scoped>\n",
       "    .dataframe tbody tr th:only-of-type {\n",
       "        vertical-align: middle;\n",
       "    }\n",
       "\n",
       "    .dataframe tbody tr th {\n",
       "        vertical-align: top;\n",
       "    }\n",
       "\n",
       "    .dataframe thead th {\n",
       "        text-align: right;\n",
       "    }\n",
       "</style>\n",
       "<table border=\"1\" class=\"dataframe\">\n",
       "  <thead>\n",
       "    <tr style=\"text-align: right;\">\n",
       "      <th></th>\n",
       "      <th>A</th>\n",
       "      <th>B</th>\n",
       "      <th>C</th>\n",
       "      <th>D</th>\n",
       "    </tr>\n",
       "  </thead>\n",
       "  <tbody>\n",
       "    <tr>\n",
       "      <th>1</th>\n",
       "      <td>A1</td>\n",
       "      <td>B1</td>\n",
       "      <td>C1</td>\n",
       "      <td>D1</td>\n",
       "    </tr>\n",
       "    <tr>\n",
       "      <th>2</th>\n",
       "      <td>A2</td>\n",
       "      <td>B2</td>\n",
       "      <td>C2</td>\n",
       "      <td>D2</td>\n",
       "    </tr>\n",
       "    <tr>\n",
       "      <th>3</th>\n",
       "      <td>A3</td>\n",
       "      <td>B3</td>\n",
       "      <td>C3</td>\n",
       "      <td>D3</td>\n",
       "    </tr>\n",
       "    <tr>\n",
       "      <th>4</th>\n",
       "      <td>A4</td>\n",
       "      <td>B4</td>\n",
       "      <td>C4</td>\n",
       "      <td>D4</td>\n",
       "    </tr>\n",
       "    <tr>\n",
       "      <th>5</th>\n",
       "      <td>A5</td>\n",
       "      <td>B5</td>\n",
       "      <td>C5</td>\n",
       "      <td>D5</td>\n",
       "    </tr>\n",
       "    <tr>\n",
       "      <th>6</th>\n",
       "      <td>A6</td>\n",
       "      <td>B6</td>\n",
       "      <td>C6</td>\n",
       "      <td>D6</td>\n",
       "    </tr>\n",
       "    <tr>\n",
       "      <th>7</th>\n",
       "      <td>A7</td>\n",
       "      <td>B7</td>\n",
       "      <td>C7</td>\n",
       "      <td>D7</td>\n",
       "    </tr>\n",
       "    <tr>\n",
       "      <th>8</th>\n",
       "      <td>A8</td>\n",
       "      <td>B8</td>\n",
       "      <td>C8</td>\n",
       "      <td>D8</td>\n",
       "    </tr>\n",
       "    <tr>\n",
       "      <th>9</th>\n",
       "      <td>A9</td>\n",
       "      <td>B9</td>\n",
       "      <td>C9</td>\n",
       "      <td>D9</td>\n",
       "    </tr>\n",
       "    <tr>\n",
       "      <th>10</th>\n",
       "      <td>A10</td>\n",
       "      <td>B10</td>\n",
       "      <td>C10</td>\n",
       "      <td>D10</td>\n",
       "    </tr>\n",
       "    <tr>\n",
       "      <th>11</th>\n",
       "      <td>A11</td>\n",
       "      <td>B11</td>\n",
       "      <td>C11</td>\n",
       "      <td>D11</td>\n",
       "    </tr>\n",
       "    <tr>\n",
       "      <th>12</th>\n",
       "      <td>A12</td>\n",
       "      <td>B12</td>\n",
       "      <td>C12</td>\n",
       "      <td>D12</td>\n",
       "    </tr>\n",
       "  </tbody>\n",
       "</table>\n",
       "</div>"
      ],
      "text/plain": [
       "      A    B    C    D\n",
       "1    A1   B1   C1   D1\n",
       "2    A2   B2   C2   D2\n",
       "3    A3   B3   C3   D3\n",
       "4    A4   B4   C4   D4\n",
       "5    A5   B5   C5   D5\n",
       "6    A6   B6   C6   D6\n",
       "7    A7   B7   C7   D7\n",
       "8    A8   B8   C8   D8\n",
       "9    A9   B9   C9   D9\n",
       "10  A10  B10  C10  D10\n",
       "11  A11  B11  C11  D11\n",
       "12  A12  B12  C12  D12"
      ]
     },
     "execution_count": 92,
     "metadata": {},
     "output_type": "execute_result"
    }
   ],
   "source": [
    "pd.concat([df1,df2,df3])"
   ]
  },
  {
   "cell_type": "code",
   "execution_count": null,
   "id": "8a930a4c",
   "metadata": {},
   "outputs": [],
   "source": [
    "TASK #12: PROJECT AND CONCLUDING REMARKS\n",
    "'''Define a dataframe named 'Bank_df_1' that contains the first and last names for 5 bank clients with IDs = 1, 2, 3, 4, 5\n",
    "Assume that the bank got 5 new clients, define another dataframe named 'Bank_df_2' that contains a new clients with IDs = 6, 7, 8, 9, 10\n",
    "Let's assume we obtained additional information (Annual Salary) about all our bank customers (10 customers)\n",
    "Concatenate both 'bank_df_1' and 'bank_df_2' dataframes\n",
    "Merge client names and their newly added salary information using the 'Bank Client ID'\n",
    "Let's assume that you became a new client to the bank\n",
    "Define a new DataFrame that contains your information such as client ID (choose 11), first name, last name, and annual salary.\n",
    "Add this new dataframe to the original dataframe 'bank_df_all'.'''"
   ]
  },
  {
   "cell_type": "code",
   "execution_count": 96,
   "id": "8fb660fc",
   "metadata": {},
   "outputs": [
    {
     "data": {
      "text/html": [
       "<div>\n",
       "<style scoped>\n",
       "    .dataframe tbody tr th:only-of-type {\n",
       "        vertical-align: middle;\n",
       "    }\n",
       "\n",
       "    .dataframe tbody tr th {\n",
       "        vertical-align: top;\n",
       "    }\n",
       "\n",
       "    .dataframe thead th {\n",
       "        text-align: right;\n",
       "    }\n",
       "</style>\n",
       "<table border=\"1\" class=\"dataframe\">\n",
       "  <thead>\n",
       "    <tr style=\"text-align: right;\">\n",
       "      <th></th>\n",
       "      <th>Bank Client ID</th>\n",
       "      <th>First name</th>\n",
       "      <th>Last name</th>\n",
       "    </tr>\n",
       "  </thead>\n",
       "  <tbody>\n",
       "    <tr>\n",
       "      <th>0</th>\n",
       "      <td>1</td>\n",
       "      <td>Sunita</td>\n",
       "      <td>Basi</td>\n",
       "    </tr>\n",
       "    <tr>\n",
       "      <th>1</th>\n",
       "      <td>2</td>\n",
       "      <td>Mina</td>\n",
       "      <td>Lama</td>\n",
       "    </tr>\n",
       "    <tr>\n",
       "      <th>2</th>\n",
       "      <td>3</td>\n",
       "      <td>Bina</td>\n",
       "      <td>Shrestha</td>\n",
       "    </tr>\n",
       "    <tr>\n",
       "      <th>3</th>\n",
       "      <td>4</td>\n",
       "      <td>Sinu</td>\n",
       "      <td>Adikhari</td>\n",
       "    </tr>\n",
       "    <tr>\n",
       "      <th>4</th>\n",
       "      <td>5</td>\n",
       "      <td>Hina</td>\n",
       "      <td>Pandey</td>\n",
       "    </tr>\n",
       "  </tbody>\n",
       "</table>\n",
       "</div>"
      ],
      "text/plain": [
       "  Bank Client ID First name Last name\n",
       "0              1     Sunita      Basi\n",
       "1              2       Mina      Lama\n",
       "2              3       Bina  Shrestha\n",
       "3              4       Sinu  Adikhari\n",
       "4              5       Hina    Pandey"
      ]
     },
     "execution_count": 96,
     "metadata": {},
     "output_type": "execute_result"
    }
   ],
   "source": [
    "import pandas as pd\n",
    "raw_data = {'Bank Client ID': ['1','2','3','4','5'],\n",
    "           'First name': ['Sunita','Mina','Bina','Sinu','Hina'],\n",
    "           'Last name':['Basi','Lama','Shrestha','Adikhari','Pandey']}\n",
    "bank_df1 = pd.DataFrame(raw_data,columns = ['Bank Client ID','First name','Last name'])\n",
    "bank_df1"
   ]
  },
  {
   "cell_type": "code",
   "execution_count": 97,
   "id": "02ea7004",
   "metadata": {},
   "outputs": [
    {
     "data": {
      "text/html": [
       "<div>\n",
       "<style scoped>\n",
       "    .dataframe tbody tr th:only-of-type {\n",
       "        vertical-align: middle;\n",
       "    }\n",
       "\n",
       "    .dataframe tbody tr th {\n",
       "        vertical-align: top;\n",
       "    }\n",
       "\n",
       "    .dataframe thead th {\n",
       "        text-align: right;\n",
       "    }\n",
       "</style>\n",
       "<table border=\"1\" class=\"dataframe\">\n",
       "  <thead>\n",
       "    <tr style=\"text-align: right;\">\n",
       "      <th></th>\n",
       "      <th>Bank Client ID</th>\n",
       "      <th>First name</th>\n",
       "      <th>Last name</th>\n",
       "    </tr>\n",
       "  </thead>\n",
       "  <tbody>\n",
       "    <tr>\n",
       "      <th>0</th>\n",
       "      <td>6</td>\n",
       "      <td>Hem</td>\n",
       "      <td>Bob</td>\n",
       "    </tr>\n",
       "    <tr>\n",
       "      <th>1</th>\n",
       "      <td>7</td>\n",
       "      <td>Mintu</td>\n",
       "      <td>sharma</td>\n",
       "    </tr>\n",
       "    <tr>\n",
       "      <th>2</th>\n",
       "      <td>8</td>\n",
       "      <td>Ben</td>\n",
       "      <td>Shr</td>\n",
       "    </tr>\n",
       "    <tr>\n",
       "      <th>3</th>\n",
       "      <td>9</td>\n",
       "      <td>Santa</td>\n",
       "      <td>Adi</td>\n",
       "    </tr>\n",
       "    <tr>\n",
       "      <th>4</th>\n",
       "      <td>10</td>\n",
       "      <td>Crane</td>\n",
       "      <td>Pan</td>\n",
       "    </tr>\n",
       "  </tbody>\n",
       "</table>\n",
       "</div>"
      ],
      "text/plain": [
       "  Bank Client ID First name Last name\n",
       "0              6        Hem       Bob\n",
       "1              7      Mintu    sharma\n",
       "2              8        Ben       Shr\n",
       "3              9      Santa       Adi\n",
       "4             10      Crane       Pan"
      ]
     },
     "execution_count": 97,
     "metadata": {},
     "output_type": "execute_result"
    }
   ],
   "source": [
    "raw_data = {'Bank Client ID': ['6','7','8','9','10'],\n",
    "           'First name': ['Hem','Mintu','Ben','Santa','Crane'],\n",
    "           'Last name':['Bob','sharma','Shr','Adi','Pan']}\n",
    "bank_df2 = pd.DataFrame(raw_data,columns = ['Bank Client ID','First name','Last name'])\n",
    "bank_df2"
   ]
  },
  {
   "cell_type": "code",
   "execution_count": 98,
   "id": "cc729161",
   "metadata": {},
   "outputs": [
    {
     "data": {
      "text/html": [
       "<div>\n",
       "<style scoped>\n",
       "    .dataframe tbody tr th:only-of-type {\n",
       "        vertical-align: middle;\n",
       "    }\n",
       "\n",
       "    .dataframe tbody tr th {\n",
       "        vertical-align: top;\n",
       "    }\n",
       "\n",
       "    .dataframe thead th {\n",
       "        text-align: right;\n",
       "    }\n",
       "</style>\n",
       "<table border=\"1\" class=\"dataframe\">\n",
       "  <thead>\n",
       "    <tr style=\"text-align: right;\">\n",
       "      <th></th>\n",
       "      <th>Bank Client ID</th>\n",
       "      <th>First name</th>\n",
       "      <th>Last name</th>\n",
       "    </tr>\n",
       "  </thead>\n",
       "  <tbody>\n",
       "    <tr>\n",
       "      <th>0</th>\n",
       "      <td>1</td>\n",
       "      <td>Sunita</td>\n",
       "      <td>Basi</td>\n",
       "    </tr>\n",
       "    <tr>\n",
       "      <th>1</th>\n",
       "      <td>2</td>\n",
       "      <td>Mina</td>\n",
       "      <td>Lama</td>\n",
       "    </tr>\n",
       "    <tr>\n",
       "      <th>2</th>\n",
       "      <td>3</td>\n",
       "      <td>Bina</td>\n",
       "      <td>Shrestha</td>\n",
       "    </tr>\n",
       "    <tr>\n",
       "      <th>3</th>\n",
       "      <td>4</td>\n",
       "      <td>Sinu</td>\n",
       "      <td>Adikhari</td>\n",
       "    </tr>\n",
       "    <tr>\n",
       "      <th>4</th>\n",
       "      <td>5</td>\n",
       "      <td>Hina</td>\n",
       "      <td>Pandey</td>\n",
       "    </tr>\n",
       "    <tr>\n",
       "      <th>0</th>\n",
       "      <td>6</td>\n",
       "      <td>Hem</td>\n",
       "      <td>Bob</td>\n",
       "    </tr>\n",
       "    <tr>\n",
       "      <th>1</th>\n",
       "      <td>7</td>\n",
       "      <td>Mintu</td>\n",
       "      <td>sharma</td>\n",
       "    </tr>\n",
       "    <tr>\n",
       "      <th>2</th>\n",
       "      <td>8</td>\n",
       "      <td>Ben</td>\n",
       "      <td>Shr</td>\n",
       "    </tr>\n",
       "    <tr>\n",
       "      <th>3</th>\n",
       "      <td>9</td>\n",
       "      <td>Santa</td>\n",
       "      <td>Adi</td>\n",
       "    </tr>\n",
       "    <tr>\n",
       "      <th>4</th>\n",
       "      <td>10</td>\n",
       "      <td>Crane</td>\n",
       "      <td>Pan</td>\n",
       "    </tr>\n",
       "  </tbody>\n",
       "</table>\n",
       "</div>"
      ],
      "text/plain": [
       "  Bank Client ID First name Last name\n",
       "0              1     Sunita      Basi\n",
       "1              2       Mina      Lama\n",
       "2              3       Bina  Shrestha\n",
       "3              4       Sinu  Adikhari\n",
       "4              5       Hina    Pandey\n",
       "0              6        Hem       Bob\n",
       "1              7      Mintu    sharma\n",
       "2              8        Ben       Shr\n",
       "3              9      Santa       Adi\n",
       "4             10      Crane       Pan"
      ]
     },
     "execution_count": 98,
     "metadata": {},
     "output_type": "execute_result"
    }
   ],
   "source": [
    "bank_client_all = pd.concat([bank_df1,bank_df2])\n",
    "bank_client_all"
   ]
  },
  {
   "cell_type": "code",
   "execution_count": 102,
   "id": "b65daaf9",
   "metadata": {},
   "outputs": [
    {
     "data": {
      "text/html": [
       "<div>\n",
       "<style scoped>\n",
       "    .dataframe tbody tr th:only-of-type {\n",
       "        vertical-align: middle;\n",
       "    }\n",
       "\n",
       "    .dataframe tbody tr th {\n",
       "        vertical-align: top;\n",
       "    }\n",
       "\n",
       "    .dataframe thead th {\n",
       "        text-align: right;\n",
       "    }\n",
       "</style>\n",
       "<table border=\"1\" class=\"dataframe\">\n",
       "  <thead>\n",
       "    <tr style=\"text-align: right;\">\n",
       "      <th></th>\n",
       "      <th>Bank Client ID</th>\n",
       "      <th>Annual Salary [Rs]</th>\n",
       "    </tr>\n",
       "  </thead>\n",
       "  <tbody>\n",
       "    <tr>\n",
       "      <th>0</th>\n",
       "      <td>1</td>\n",
       "      <td>50000</td>\n",
       "    </tr>\n",
       "    <tr>\n",
       "      <th>1</th>\n",
       "      <td>2</td>\n",
       "      <td>60000</td>\n",
       "    </tr>\n",
       "    <tr>\n",
       "      <th>2</th>\n",
       "      <td>3</td>\n",
       "      <td>50000</td>\n",
       "    </tr>\n",
       "    <tr>\n",
       "      <th>3</th>\n",
       "      <td>4</td>\n",
       "      <td>45000</td>\n",
       "    </tr>\n",
       "    <tr>\n",
       "      <th>4</th>\n",
       "      <td>5</td>\n",
       "      <td>80000</td>\n",
       "    </tr>\n",
       "    <tr>\n",
       "      <th>5</th>\n",
       "      <td>6</td>\n",
       "      <td>90000</td>\n",
       "    </tr>\n",
       "    <tr>\n",
       "      <th>6</th>\n",
       "      <td>7</td>\n",
       "      <td>56000</td>\n",
       "    </tr>\n",
       "    <tr>\n",
       "      <th>7</th>\n",
       "      <td>8</td>\n",
       "      <td>55000</td>\n",
       "    </tr>\n",
       "    <tr>\n",
       "      <th>8</th>\n",
       "      <td>9</td>\n",
       "      <td>23000</td>\n",
       "    </tr>\n",
       "    <tr>\n",
       "      <th>9</th>\n",
       "      <td>10</td>\n",
       "      <td>75000</td>\n",
       "    </tr>\n",
       "  </tbody>\n",
       "</table>\n",
       "</div>"
      ],
      "text/plain": [
       "  Bank Client ID  Annual Salary [Rs]\n",
       "0              1               50000\n",
       "1              2               60000\n",
       "2              3               50000\n",
       "3              4               45000\n",
       "4              5               80000\n",
       "5              6               90000\n",
       "6              7               56000\n",
       "7              8               55000\n",
       "8              9               23000\n",
       "9             10               75000"
      ]
     },
     "execution_count": 102,
     "metadata": {},
     "output_type": "execute_result"
    }
   ],
   "source": [
    "raw_data =({'Bank Client ID':['1','2','3','4','5','6','7','8','9','10'],\n",
    "            'Annual Salary [Rs]':[50000,60000,50000,45000,80000,90000,56000,55000,23000,75000]})\n",
    "salary_data = pd.DataFrame(raw_data,columns = ['Bank Client ID','Annual Salary [Rs]'])\n",
    "salary_data"
   ]
  },
  {
   "cell_type": "code",
   "execution_count": 105,
   "id": "93f1c533",
   "metadata": {},
   "outputs": [
    {
     "data": {
      "text/html": [
       "<div>\n",
       "<style scoped>\n",
       "    .dataframe tbody tr th:only-of-type {\n",
       "        vertical-align: middle;\n",
       "    }\n",
       "\n",
       "    .dataframe tbody tr th {\n",
       "        vertical-align: top;\n",
       "    }\n",
       "\n",
       "    .dataframe thead th {\n",
       "        text-align: right;\n",
       "    }\n",
       "</style>\n",
       "<table border=\"1\" class=\"dataframe\">\n",
       "  <thead>\n",
       "    <tr style=\"text-align: right;\">\n",
       "      <th></th>\n",
       "      <th>Bank Client ID</th>\n",
       "      <th>First name</th>\n",
       "      <th>Last name</th>\n",
       "      <th>Annual Salary [Rs]</th>\n",
       "    </tr>\n",
       "  </thead>\n",
       "  <tbody>\n",
       "    <tr>\n",
       "      <th>0</th>\n",
       "      <td>1</td>\n",
       "      <td>Sunita</td>\n",
       "      <td>Basi</td>\n",
       "      <td>50000</td>\n",
       "    </tr>\n",
       "    <tr>\n",
       "      <th>1</th>\n",
       "      <td>2</td>\n",
       "      <td>Mina</td>\n",
       "      <td>Lama</td>\n",
       "      <td>60000</td>\n",
       "    </tr>\n",
       "    <tr>\n",
       "      <th>2</th>\n",
       "      <td>3</td>\n",
       "      <td>Bina</td>\n",
       "      <td>Shrestha</td>\n",
       "      <td>50000</td>\n",
       "    </tr>\n",
       "    <tr>\n",
       "      <th>3</th>\n",
       "      <td>4</td>\n",
       "      <td>Sinu</td>\n",
       "      <td>Adikhari</td>\n",
       "      <td>45000</td>\n",
       "    </tr>\n",
       "    <tr>\n",
       "      <th>4</th>\n",
       "      <td>5</td>\n",
       "      <td>Hina</td>\n",
       "      <td>Pandey</td>\n",
       "      <td>80000</td>\n",
       "    </tr>\n",
       "    <tr>\n",
       "      <th>5</th>\n",
       "      <td>6</td>\n",
       "      <td>Hem</td>\n",
       "      <td>Bob</td>\n",
       "      <td>90000</td>\n",
       "    </tr>\n",
       "    <tr>\n",
       "      <th>6</th>\n",
       "      <td>7</td>\n",
       "      <td>Mintu</td>\n",
       "      <td>sharma</td>\n",
       "      <td>56000</td>\n",
       "    </tr>\n",
       "    <tr>\n",
       "      <th>7</th>\n",
       "      <td>8</td>\n",
       "      <td>Ben</td>\n",
       "      <td>Shr</td>\n",
       "      <td>55000</td>\n",
       "    </tr>\n",
       "    <tr>\n",
       "      <th>8</th>\n",
       "      <td>9</td>\n",
       "      <td>Santa</td>\n",
       "      <td>Adi</td>\n",
       "      <td>23000</td>\n",
       "    </tr>\n",
       "    <tr>\n",
       "      <th>9</th>\n",
       "      <td>10</td>\n",
       "      <td>Crane</td>\n",
       "      <td>Pan</td>\n",
       "      <td>75000</td>\n",
       "    </tr>\n",
       "  </tbody>\n",
       "</table>\n",
       "</div>"
      ],
      "text/plain": [
       "  Bank Client ID First name Last name  Annual Salary [Rs]\n",
       "0              1     Sunita      Basi               50000\n",
       "1              2       Mina      Lama               60000\n",
       "2              3       Bina  Shrestha               50000\n",
       "3              4       Sinu  Adikhari               45000\n",
       "4              5       Hina    Pandey               80000\n",
       "5              6        Hem       Bob               90000\n",
       "6              7      Mintu    sharma               56000\n",
       "7              8        Ben       Shr               55000\n",
       "8              9      Santa       Adi               23000\n",
       "9             10      Crane       Pan               75000"
      ]
     },
     "execution_count": 105,
     "metadata": {},
     "output_type": "execute_result"
    }
   ],
   "source": [
    "bank_client_all = pd.merge(bank_client_all,salary_data,on = 'Bank Client ID')\n",
    "bank_client_all"
   ]
  },
  {
   "cell_type": "code",
   "execution_count": 106,
   "id": "46a29dd0",
   "metadata": {},
   "outputs": [
    {
     "data": {
      "text/html": [
       "<div>\n",
       "<style scoped>\n",
       "    .dataframe tbody tr th:only-of-type {\n",
       "        vertical-align: middle;\n",
       "    }\n",
       "\n",
       "    .dataframe tbody tr th {\n",
       "        vertical-align: top;\n",
       "    }\n",
       "\n",
       "    .dataframe thead th {\n",
       "        text-align: right;\n",
       "    }\n",
       "</style>\n",
       "<table border=\"1\" class=\"dataframe\">\n",
       "  <thead>\n",
       "    <tr style=\"text-align: right;\">\n",
       "      <th></th>\n",
       "      <th>Bank Client ID</th>\n",
       "      <th>First name</th>\n",
       "      <th>Last name</th>\n",
       "      <th>Annual Salary [Rs]</th>\n",
       "    </tr>\n",
       "  </thead>\n",
       "  <tbody>\n",
       "    <tr>\n",
       "      <th>0</th>\n",
       "      <td>11</td>\n",
       "      <td>John</td>\n",
       "      <td>Bob</td>\n",
       "      <td>80000</td>\n",
       "    </tr>\n",
       "  </tbody>\n",
       "</table>\n",
       "</div>"
      ],
      "text/plain": [
       "  Bank Client ID First name Last name  Annual Salary [Rs]\n",
       "0             11       John       Bob               80000"
      ]
     },
     "execution_count": 106,
     "metadata": {},
     "output_type": "execute_result"
    }
   ],
   "source": [
    "raw_data = ({'Bank Client ID':['11'],'First name':['John'],'Last name':['Bob'],'Annual Salary [Rs]': [80000]})\n",
    "new_data = pd.DataFrame(raw_data,columns = ['Bank Client ID','First name','Last name','Annual Salary [Rs]'])\n",
    "new_data"
   ]
  },
  {
   "cell_type": "code",
   "execution_count": 107,
   "id": "89e4ebd7",
   "metadata": {},
   "outputs": [
    {
     "data": {
      "text/html": [
       "<div>\n",
       "<style scoped>\n",
       "    .dataframe tbody tr th:only-of-type {\n",
       "        vertical-align: middle;\n",
       "    }\n",
       "\n",
       "    .dataframe tbody tr th {\n",
       "        vertical-align: top;\n",
       "    }\n",
       "\n",
       "    .dataframe thead th {\n",
       "        text-align: right;\n",
       "    }\n",
       "</style>\n",
       "<table border=\"1\" class=\"dataframe\">\n",
       "  <thead>\n",
       "    <tr style=\"text-align: right;\">\n",
       "      <th></th>\n",
       "      <th>Bank Client ID</th>\n",
       "      <th>First name</th>\n",
       "      <th>Last name</th>\n",
       "      <th>Annual Salary [Rs]</th>\n",
       "    </tr>\n",
       "  </thead>\n",
       "  <tbody>\n",
       "    <tr>\n",
       "      <th>0</th>\n",
       "      <td>1</td>\n",
       "      <td>Sunita</td>\n",
       "      <td>Basi</td>\n",
       "      <td>50000</td>\n",
       "    </tr>\n",
       "    <tr>\n",
       "      <th>1</th>\n",
       "      <td>2</td>\n",
       "      <td>Mina</td>\n",
       "      <td>Lama</td>\n",
       "      <td>60000</td>\n",
       "    </tr>\n",
       "    <tr>\n",
       "      <th>2</th>\n",
       "      <td>3</td>\n",
       "      <td>Bina</td>\n",
       "      <td>Shrestha</td>\n",
       "      <td>50000</td>\n",
       "    </tr>\n",
       "    <tr>\n",
       "      <th>3</th>\n",
       "      <td>4</td>\n",
       "      <td>Sinu</td>\n",
       "      <td>Adikhari</td>\n",
       "      <td>45000</td>\n",
       "    </tr>\n",
       "    <tr>\n",
       "      <th>4</th>\n",
       "      <td>5</td>\n",
       "      <td>Hina</td>\n",
       "      <td>Pandey</td>\n",
       "      <td>80000</td>\n",
       "    </tr>\n",
       "    <tr>\n",
       "      <th>5</th>\n",
       "      <td>6</td>\n",
       "      <td>Hem</td>\n",
       "      <td>Bob</td>\n",
       "      <td>90000</td>\n",
       "    </tr>\n",
       "    <tr>\n",
       "      <th>6</th>\n",
       "      <td>7</td>\n",
       "      <td>Mintu</td>\n",
       "      <td>sharma</td>\n",
       "      <td>56000</td>\n",
       "    </tr>\n",
       "    <tr>\n",
       "      <th>7</th>\n",
       "      <td>8</td>\n",
       "      <td>Ben</td>\n",
       "      <td>Shr</td>\n",
       "      <td>55000</td>\n",
       "    </tr>\n",
       "    <tr>\n",
       "      <th>8</th>\n",
       "      <td>9</td>\n",
       "      <td>Santa</td>\n",
       "      <td>Adi</td>\n",
       "      <td>23000</td>\n",
       "    </tr>\n",
       "    <tr>\n",
       "      <th>9</th>\n",
       "      <td>10</td>\n",
       "      <td>Crane</td>\n",
       "      <td>Pan</td>\n",
       "      <td>75000</td>\n",
       "    </tr>\n",
       "    <tr>\n",
       "      <th>0</th>\n",
       "      <td>11</td>\n",
       "      <td>John</td>\n",
       "      <td>Bob</td>\n",
       "      <td>80000</td>\n",
       "    </tr>\n",
       "  </tbody>\n",
       "</table>\n",
       "</div>"
      ],
      "text/plain": [
       "  Bank Client ID First name Last name  Annual Salary [Rs]\n",
       "0              1     Sunita      Basi               50000\n",
       "1              2       Mina      Lama               60000\n",
       "2              3       Bina  Shrestha               50000\n",
       "3              4       Sinu  Adikhari               45000\n",
       "4              5       Hina    Pandey               80000\n",
       "5              6        Hem       Bob               90000\n",
       "6              7      Mintu    sharma               56000\n",
       "7              8        Ben       Shr               55000\n",
       "8              9      Santa       Adi               23000\n",
       "9             10      Crane       Pan               75000\n",
       "0             11       John       Bob               80000"
      ]
     },
     "execution_count": 107,
     "metadata": {},
     "output_type": "execute_result"
    }
   ],
   "source": [
    "final_df = pd.concat([bank_client_all,new_data],axis = 0)\n",
    "final_df"
   ]
  },
  {
   "cell_type": "code",
   "execution_count": 108,
   "id": "ab66500b",
   "metadata": {},
   "outputs": [
    {
     "data": {
      "text/plain": [
       "Index(['Bank Client ID', 'First name', 'Last name', 'Annual Salary [Rs]'], dtype='object')"
      ]
     },
     "execution_count": 108,
     "metadata": {},
     "output_type": "execute_result"
    }
   ],
   "source": [
    "final_df.columns"
   ]
  },
  {
   "cell_type": "code",
   "execution_count": null,
   "id": "2e50960b",
   "metadata": {},
   "outputs": [],
   "source": []
  }
 ],
 "metadata": {
  "kernelspec": {
   "display_name": "Python 3 (ipykernel)",
   "language": "python",
   "name": "python3"
  },
  "language_info": {
   "codemirror_mode": {
    "name": "ipython",
    "version": 3
   },
   "file_extension": ".py",
   "mimetype": "text/x-python",
   "name": "python",
   "nbconvert_exporter": "python",
   "pygments_lexer": "ipython3",
   "version": "3.11.5"
  }
 },
 "nbformat": 4,
 "nbformat_minor": 5
}
